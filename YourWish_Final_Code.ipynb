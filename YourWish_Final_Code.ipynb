{
  "cells": [
    {
      "cell_type": "markdown",
      "metadata": {
        "id": "y_rnzqkFF4bU"
      },
      "source": [
        "# **ML PROJECT - WHY SO HARSH?**\n",
        "\n",
        "## Team Members:\n",
        "## Anshul Jindal - IMT2020039 <br>\n",
        "## Shreeya Venneti - IMT2020535"
      ]
    },
    {
      "cell_type": "markdown",
      "metadata": {
        "id": "Gkv-8ZH1GAzd"
      },
      "source": [
        "## Mounting the Google Drive"
      ]
    },
    {
      "cell_type": "markdown",
      "metadata": {
        "id": "xgvyAan3XKVL"
      },
      "source": [
        "Train and Test data have been placed in Google Drive. This reduces the time taken to upload test and train data onto local runtime. \n",
        "<br>\n",
        "\n",
        "Both Test.csv and Train.csv are placed in \"Colab Notebooks\" directory in google drive."
      ]
    },
    {
      "cell_type": "code",
      "execution_count": 1,
      "metadata": {
        "colab": {
          "base_uri": "https://localhost:8080/"
        },
        "id": "IBBcyV31xgEA",
        "outputId": "db212239-07b7-4f01-c57a-70be9c01c296"
      },
      "outputs": [
        {
          "output_type": "stream",
          "name": "stdout",
          "text": [
            "Mounted at /content/drive\n"
          ]
        }
      ],
      "source": [
        "from google.colab import drive\n",
        "drive.mount('/content/drive')"
      ]
    },
    {
      "cell_type": "code",
      "execution_count": 2,
      "metadata": {
        "id": "2vmq7eVVKfa9"
      },
      "outputs": [],
      "source": [
        "mkdir Results"
      ]
    },
    {
      "cell_type": "markdown",
      "metadata": {
        "id": "8tSHWQzYXDSH"
      },
      "source": [
        "## Importing Libraries"
      ]
    },
    {
      "cell_type": "code",
      "execution_count": 3,
      "metadata": {
        "colab": {
          "base_uri": "https://localhost:8080/"
        },
        "id": "UvIibgvIFmhZ",
        "outputId": "1c585363-55a8-42ff-83f5-31158dc00cce"
      },
      "outputs": [
        {
          "output_type": "stream",
          "name": "stderr",
          "text": [
            "[nltk_data] Downloading package punkt to /root/nltk_data...\n",
            "[nltk_data]   Unzipping tokenizers/punkt.zip.\n",
            "[nltk_data] Downloading package stopwords to /root/nltk_data...\n",
            "[nltk_data]   Unzipping corpora/stopwords.zip.\n",
            "[nltk_data] Downloading package wordnet to /root/nltk_data...\n",
            "[nltk_data] Downloading package omw-1.4 to /root/nltk_data...\n"
          ]
        },
        {
          "output_type": "stream",
          "name": "stdout",
          "text": [
            "Looking in indexes: https://pypi.org/simple, https://us-python.pkg.dev/colab-wheels/public/simple/\n",
            "Collecting contractions\n",
            "  Downloading contractions-0.1.73-py2.py3-none-any.whl (8.7 kB)\n",
            "Collecting textsearch>=0.0.21\n",
            "  Downloading textsearch-0.0.24-py2.py3-none-any.whl (7.6 kB)\n",
            "Collecting pyahocorasick\n",
            "  Downloading pyahocorasick-1.4.4-cp38-cp38-manylinux_2_17_x86_64.manylinux2014_x86_64.whl (110 kB)\n",
            "\u001b[K     |████████████████████████████████| 110 kB 5.2 MB/s \n",
            "\u001b[?25hCollecting anyascii\n",
            "  Downloading anyascii-0.3.1-py3-none-any.whl (287 kB)\n",
            "\u001b[K     |████████████████████████████████| 287 kB 33.5 MB/s \n",
            "\u001b[?25hInstalling collected packages: pyahocorasick, anyascii, textsearch, contractions\n",
            "Successfully installed anyascii-0.3.1 contractions-0.1.73 pyahocorasick-1.4.4 textsearch-0.0.24\n"
          ]
        },
        {
          "output_type": "stream",
          "name": "stderr",
          "text": [
            "[nltk_data] Downloading package words to /root/nltk_data...\n",
            "[nltk_data]   Unzipping corpora/words.zip.\n"
          ]
        }
      ],
      "source": [
        "import pandas as pd\n",
        "import numpy as np\n",
        "import nltk\n",
        "import matplotlib.pyplot as plt\n",
        "from collections import defaultdict\n",
        "from collections import  Counter\n",
        "import seaborn as sns\n",
        "\n",
        "from wordcloud import WordCloud\n",
        "from wordcloud import ImageColorGenerator\n",
        "from wordcloud import STOPWORDS\n",
        "\n",
        "nltk.download('punkt')\n",
        "nltk.download('stopwords')\n",
        "nltk.download('wordnet')\n",
        "nltk.download('omw-1.4')\n",
        "\n",
        "!pip install contractions\n",
        "import contractions\n",
        "import string\n",
        "import regex as re\n",
        "from nltk.tokenize import word_tokenize\n",
        "from nltk.stem import WordNetLemmatizer\n",
        "from nltk.corpus import stopwords\n",
        "stop_words = stopwords.words('english')\n",
        "\n",
        "from textblob import TextBlob\n",
        "import pickle\n",
        "from sklearn.metrics import accuracy_score, f1_score \n",
        "\n",
        "from nltk.corpus import words\n",
        "nltk.download('words')\n",
        "\n",
        "from sklearn.feature_extraction.text import TfidfVectorizer\n",
        "from sklearn.ensemble import RandomForestClassifier"
      ]
    },
    {
      "cell_type": "markdown",
      "metadata": {
        "id": "dWH1W9yCJJpw"
      },
      "source": [
        "##Reading the Train and Test Data Files:"
      ]
    },
    {
      "cell_type": "code",
      "execution_count": 4,
      "metadata": {
        "colab": {
          "base_uri": "https://localhost:8080/",
          "height": 206
        },
        "id": "37sETZSQJTFN",
        "outputId": "4998e91e-5c51-4957-b082-968915591bd4"
      },
      "outputs": [
        {
          "output_type": "execute_result",
          "data": {
            "text/plain": [
              "                     id                                               text  \\\n",
              "0  a8be7c5d4527adbbf15f  \", 6 December 2007 (UTC)\\nI am interested, not...   \n",
              "1  0b7ca73f388222aad64d  I added about three missing parameters to temp...   \n",
              "2  db934381501872ba6f38  SANDBOX?? \\n\\nI DID YOUR MADRE DID IN THE SANDBOX   \n",
              "3  228015c4a87c4b1f09a7  why good sir? Why? \\n\\nYou, sir, obviously do ...   \n",
              "4  b18f26cfa1408b52e949  \"\\n\\n Source \\n\\nIncase I forget, or someone e...   \n",
              "\n",
              "   harsh  extremely_harsh  vulgar  threatening  disrespect  targeted_hate  \n",
              "0      0                0       0            0           0              0  \n",
              "1      0                0       0            0           0              0  \n",
              "2      1                0       0            0           0              0  \n",
              "3      1                0       1            1           1              0  \n",
              "4      0                0       0            0           0              0  "
            ],
            "text/html": [
              "\n",
              "  <div id=\"df-648599ed-f625-4302-821c-464445d49e82\">\n",
              "    <div class=\"colab-df-container\">\n",
              "      <div>\n",
              "<style scoped>\n",
              "    .dataframe tbody tr th:only-of-type {\n",
              "        vertical-align: middle;\n",
              "    }\n",
              "\n",
              "    .dataframe tbody tr th {\n",
              "        vertical-align: top;\n",
              "    }\n",
              "\n",
              "    .dataframe thead th {\n",
              "        text-align: right;\n",
              "    }\n",
              "</style>\n",
              "<table border=\"1\" class=\"dataframe\">\n",
              "  <thead>\n",
              "    <tr style=\"text-align: right;\">\n",
              "      <th></th>\n",
              "      <th>id</th>\n",
              "      <th>text</th>\n",
              "      <th>harsh</th>\n",
              "      <th>extremely_harsh</th>\n",
              "      <th>vulgar</th>\n",
              "      <th>threatening</th>\n",
              "      <th>disrespect</th>\n",
              "      <th>targeted_hate</th>\n",
              "    </tr>\n",
              "  </thead>\n",
              "  <tbody>\n",
              "    <tr>\n",
              "      <th>0</th>\n",
              "      <td>a8be7c5d4527adbbf15f</td>\n",
              "      <td>\", 6 December 2007 (UTC)\\nI am interested, not...</td>\n",
              "      <td>0</td>\n",
              "      <td>0</td>\n",
              "      <td>0</td>\n",
              "      <td>0</td>\n",
              "      <td>0</td>\n",
              "      <td>0</td>\n",
              "    </tr>\n",
              "    <tr>\n",
              "      <th>1</th>\n",
              "      <td>0b7ca73f388222aad64d</td>\n",
              "      <td>I added about three missing parameters to temp...</td>\n",
              "      <td>0</td>\n",
              "      <td>0</td>\n",
              "      <td>0</td>\n",
              "      <td>0</td>\n",
              "      <td>0</td>\n",
              "      <td>0</td>\n",
              "    </tr>\n",
              "    <tr>\n",
              "      <th>2</th>\n",
              "      <td>db934381501872ba6f38</td>\n",
              "      <td>SANDBOX?? \\n\\nI DID YOUR MADRE DID IN THE SANDBOX</td>\n",
              "      <td>1</td>\n",
              "      <td>0</td>\n",
              "      <td>0</td>\n",
              "      <td>0</td>\n",
              "      <td>0</td>\n",
              "      <td>0</td>\n",
              "    </tr>\n",
              "    <tr>\n",
              "      <th>3</th>\n",
              "      <td>228015c4a87c4b1f09a7</td>\n",
              "      <td>why good sir? Why? \\n\\nYou, sir, obviously do ...</td>\n",
              "      <td>1</td>\n",
              "      <td>0</td>\n",
              "      <td>1</td>\n",
              "      <td>1</td>\n",
              "      <td>1</td>\n",
              "      <td>0</td>\n",
              "    </tr>\n",
              "    <tr>\n",
              "      <th>4</th>\n",
              "      <td>b18f26cfa1408b52e949</td>\n",
              "      <td>\"\\n\\n Source \\n\\nIncase I forget, or someone e...</td>\n",
              "      <td>0</td>\n",
              "      <td>0</td>\n",
              "      <td>0</td>\n",
              "      <td>0</td>\n",
              "      <td>0</td>\n",
              "      <td>0</td>\n",
              "    </tr>\n",
              "  </tbody>\n",
              "</table>\n",
              "</div>\n",
              "      <button class=\"colab-df-convert\" onclick=\"convertToInteractive('df-648599ed-f625-4302-821c-464445d49e82')\"\n",
              "              title=\"Convert this dataframe to an interactive table.\"\n",
              "              style=\"display:none;\">\n",
              "        \n",
              "  <svg xmlns=\"http://www.w3.org/2000/svg\" height=\"24px\"viewBox=\"0 0 24 24\"\n",
              "       width=\"24px\">\n",
              "    <path d=\"M0 0h24v24H0V0z\" fill=\"none\"/>\n",
              "    <path d=\"M18.56 5.44l.94 2.06.94-2.06 2.06-.94-2.06-.94-.94-2.06-.94 2.06-2.06.94zm-11 1L8.5 8.5l.94-2.06 2.06-.94-2.06-.94L8.5 2.5l-.94 2.06-2.06.94zm10 10l.94 2.06.94-2.06 2.06-.94-2.06-.94-.94-2.06-.94 2.06-2.06.94z\"/><path d=\"M17.41 7.96l-1.37-1.37c-.4-.4-.92-.59-1.43-.59-.52 0-1.04.2-1.43.59L10.3 9.45l-7.72 7.72c-.78.78-.78 2.05 0 2.83L4 21.41c.39.39.9.59 1.41.59.51 0 1.02-.2 1.41-.59l7.78-7.78 2.81-2.81c.8-.78.8-2.07 0-2.86zM5.41 20L4 18.59l7.72-7.72 1.47 1.35L5.41 20z\"/>\n",
              "  </svg>\n",
              "      </button>\n",
              "      \n",
              "  <style>\n",
              "    .colab-df-container {\n",
              "      display:flex;\n",
              "      flex-wrap:wrap;\n",
              "      gap: 12px;\n",
              "    }\n",
              "\n",
              "    .colab-df-convert {\n",
              "      background-color: #E8F0FE;\n",
              "      border: none;\n",
              "      border-radius: 50%;\n",
              "      cursor: pointer;\n",
              "      display: none;\n",
              "      fill: #1967D2;\n",
              "      height: 32px;\n",
              "      padding: 0 0 0 0;\n",
              "      width: 32px;\n",
              "    }\n",
              "\n",
              "    .colab-df-convert:hover {\n",
              "      background-color: #E2EBFA;\n",
              "      box-shadow: 0px 1px 2px rgba(60, 64, 67, 0.3), 0px 1px 3px 1px rgba(60, 64, 67, 0.15);\n",
              "      fill: #174EA6;\n",
              "    }\n",
              "\n",
              "    [theme=dark] .colab-df-convert {\n",
              "      background-color: #3B4455;\n",
              "      fill: #D2E3FC;\n",
              "    }\n",
              "\n",
              "    [theme=dark] .colab-df-convert:hover {\n",
              "      background-color: #434B5C;\n",
              "      box-shadow: 0px 1px 3px 1px rgba(0, 0, 0, 0.15);\n",
              "      filter: drop-shadow(0px 1px 2px rgba(0, 0, 0, 0.3));\n",
              "      fill: #FFFFFF;\n",
              "    }\n",
              "  </style>\n",
              "\n",
              "      <script>\n",
              "        const buttonEl =\n",
              "          document.querySelector('#df-648599ed-f625-4302-821c-464445d49e82 button.colab-df-convert');\n",
              "        buttonEl.style.display =\n",
              "          google.colab.kernel.accessAllowed ? 'block' : 'none';\n",
              "\n",
              "        async function convertToInteractive(key) {\n",
              "          const element = document.querySelector('#df-648599ed-f625-4302-821c-464445d49e82');\n",
              "          const dataTable =\n",
              "            await google.colab.kernel.invokeFunction('convertToInteractive',\n",
              "                                                     [key], {});\n",
              "          if (!dataTable) return;\n",
              "\n",
              "          const docLinkHtml = 'Like what you see? Visit the ' +\n",
              "            '<a target=\"_blank\" href=https://colab.research.google.com/notebooks/data_table.ipynb>data table notebook</a>'\n",
              "            + ' to learn more about interactive tables.';\n",
              "          element.innerHTML = '';\n",
              "          dataTable['output_type'] = 'display_data';\n",
              "          await google.colab.output.renderOutput(dataTable, element);\n",
              "          const docLink = document.createElement('div');\n",
              "          docLink.innerHTML = docLinkHtml;\n",
              "          element.appendChild(docLink);\n",
              "        }\n",
              "      </script>\n",
              "    </div>\n",
              "  </div>\n",
              "  "
            ]
          },
          "metadata": {},
          "execution_count": 4
        }
      ],
      "source": [
        "# These all columns are need to be read. NO UNAMED COLUMNS are to be read.\n",
        "col_list_train = [\"id\", \"text\", \"harsh\", \"extremely_harsh\", \"vulgar\", \"threatening\", \"disrespect\", \"targeted_hate\"]\n",
        "\n",
        "# low_memory = false to avoid DTypy warning while reading pandas dataframe\n",
        "# Link: https://stackoverflow.com/questions/24251219/pandas-read-csv-low-memory-and-dtype-options\n",
        "\n",
        "train_df = pd.read_csv(\"/content/drive/MyDrive/Colab Notebooks/train.csv\", usecols=col_list_train, low_memory=False)\n",
        "\n",
        "train_df.head()"
      ]
    },
    {
      "cell_type": "code",
      "execution_count": 5,
      "metadata": {
        "colab": {
          "base_uri": "https://localhost:8080/",
          "height": 206
        },
        "id": "UPXEsRvOKhmf",
        "outputId": "578d0112-115b-4098-cdf2-4d5e248ef050"
      },
      "outputs": [
        {
          "output_type": "execute_result",
          "data": {
            "text/plain": [
              "                     id                                               text\n",
              "0  e0ae9d9474a5689a5791               in an interview before his execution\n",
              "1  b64a191301cad4f11287  He knew what he was doing. The below posts are...\n",
              "2  5e1953d9ae04bdc66408  Zzzzzzz... youre a real bore. Now go bore some...\n",
              "3  23128f98196c8e8f7b90  \"\\n\\nYet, it remains confusion because the 910...\n",
              "4  2d3f1254f71472bf2b78  I was referring to them losing interest in van..."
            ],
            "text/html": [
              "\n",
              "  <div id=\"df-8a7d5cdf-1370-402e-a8f4-f98c311730bb\">\n",
              "    <div class=\"colab-df-container\">\n",
              "      <div>\n",
              "<style scoped>\n",
              "    .dataframe tbody tr th:only-of-type {\n",
              "        vertical-align: middle;\n",
              "    }\n",
              "\n",
              "    .dataframe tbody tr th {\n",
              "        vertical-align: top;\n",
              "    }\n",
              "\n",
              "    .dataframe thead th {\n",
              "        text-align: right;\n",
              "    }\n",
              "</style>\n",
              "<table border=\"1\" class=\"dataframe\">\n",
              "  <thead>\n",
              "    <tr style=\"text-align: right;\">\n",
              "      <th></th>\n",
              "      <th>id</th>\n",
              "      <th>text</th>\n",
              "    </tr>\n",
              "  </thead>\n",
              "  <tbody>\n",
              "    <tr>\n",
              "      <th>0</th>\n",
              "      <td>e0ae9d9474a5689a5791</td>\n",
              "      <td>in an interview before his execution</td>\n",
              "    </tr>\n",
              "    <tr>\n",
              "      <th>1</th>\n",
              "      <td>b64a191301cad4f11287</td>\n",
              "      <td>He knew what he was doing. The below posts are...</td>\n",
              "    </tr>\n",
              "    <tr>\n",
              "      <th>2</th>\n",
              "      <td>5e1953d9ae04bdc66408</td>\n",
              "      <td>Zzzzzzz... youre a real bore. Now go bore some...</td>\n",
              "    </tr>\n",
              "    <tr>\n",
              "      <th>3</th>\n",
              "      <td>23128f98196c8e8f7b90</td>\n",
              "      <td>\"\\n\\nYet, it remains confusion because the 910...</td>\n",
              "    </tr>\n",
              "    <tr>\n",
              "      <th>4</th>\n",
              "      <td>2d3f1254f71472bf2b78</td>\n",
              "      <td>I was referring to them losing interest in van...</td>\n",
              "    </tr>\n",
              "  </tbody>\n",
              "</table>\n",
              "</div>\n",
              "      <button class=\"colab-df-convert\" onclick=\"convertToInteractive('df-8a7d5cdf-1370-402e-a8f4-f98c311730bb')\"\n",
              "              title=\"Convert this dataframe to an interactive table.\"\n",
              "              style=\"display:none;\">\n",
              "        \n",
              "  <svg xmlns=\"http://www.w3.org/2000/svg\" height=\"24px\"viewBox=\"0 0 24 24\"\n",
              "       width=\"24px\">\n",
              "    <path d=\"M0 0h24v24H0V0z\" fill=\"none\"/>\n",
              "    <path d=\"M18.56 5.44l.94 2.06.94-2.06 2.06-.94-2.06-.94-.94-2.06-.94 2.06-2.06.94zm-11 1L8.5 8.5l.94-2.06 2.06-.94-2.06-.94L8.5 2.5l-.94 2.06-2.06.94zm10 10l.94 2.06.94-2.06 2.06-.94-2.06-.94-.94-2.06-.94 2.06-2.06.94z\"/><path d=\"M17.41 7.96l-1.37-1.37c-.4-.4-.92-.59-1.43-.59-.52 0-1.04.2-1.43.59L10.3 9.45l-7.72 7.72c-.78.78-.78 2.05 0 2.83L4 21.41c.39.39.9.59 1.41.59.51 0 1.02-.2 1.41-.59l7.78-7.78 2.81-2.81c.8-.78.8-2.07 0-2.86zM5.41 20L4 18.59l7.72-7.72 1.47 1.35L5.41 20z\"/>\n",
              "  </svg>\n",
              "      </button>\n",
              "      \n",
              "  <style>\n",
              "    .colab-df-container {\n",
              "      display:flex;\n",
              "      flex-wrap:wrap;\n",
              "      gap: 12px;\n",
              "    }\n",
              "\n",
              "    .colab-df-convert {\n",
              "      background-color: #E8F0FE;\n",
              "      border: none;\n",
              "      border-radius: 50%;\n",
              "      cursor: pointer;\n",
              "      display: none;\n",
              "      fill: #1967D2;\n",
              "      height: 32px;\n",
              "      padding: 0 0 0 0;\n",
              "      width: 32px;\n",
              "    }\n",
              "\n",
              "    .colab-df-convert:hover {\n",
              "      background-color: #E2EBFA;\n",
              "      box-shadow: 0px 1px 2px rgba(60, 64, 67, 0.3), 0px 1px 3px 1px rgba(60, 64, 67, 0.15);\n",
              "      fill: #174EA6;\n",
              "    }\n",
              "\n",
              "    [theme=dark] .colab-df-convert {\n",
              "      background-color: #3B4455;\n",
              "      fill: #D2E3FC;\n",
              "    }\n",
              "\n",
              "    [theme=dark] .colab-df-convert:hover {\n",
              "      background-color: #434B5C;\n",
              "      box-shadow: 0px 1px 3px 1px rgba(0, 0, 0, 0.15);\n",
              "      filter: drop-shadow(0px 1px 2px rgba(0, 0, 0, 0.3));\n",
              "      fill: #FFFFFF;\n",
              "    }\n",
              "  </style>\n",
              "\n",
              "      <script>\n",
              "        const buttonEl =\n",
              "          document.querySelector('#df-8a7d5cdf-1370-402e-a8f4-f98c311730bb button.colab-df-convert');\n",
              "        buttonEl.style.display =\n",
              "          google.colab.kernel.accessAllowed ? 'block' : 'none';\n",
              "\n",
              "        async function convertToInteractive(key) {\n",
              "          const element = document.querySelector('#df-8a7d5cdf-1370-402e-a8f4-f98c311730bb');\n",
              "          const dataTable =\n",
              "            await google.colab.kernel.invokeFunction('convertToInteractive',\n",
              "                                                     [key], {});\n",
              "          if (!dataTable) return;\n",
              "\n",
              "          const docLinkHtml = 'Like what you see? Visit the ' +\n",
              "            '<a target=\"_blank\" href=https://colab.research.google.com/notebooks/data_table.ipynb>data table notebook</a>'\n",
              "            + ' to learn more about interactive tables.';\n",
              "          element.innerHTML = '';\n",
              "          dataTable['output_type'] = 'display_data';\n",
              "          await google.colab.output.renderOutput(dataTable, element);\n",
              "          const docLink = document.createElement('div');\n",
              "          docLink.innerHTML = docLinkHtml;\n",
              "          element.appendChild(docLink);\n",
              "        }\n",
              "      </script>\n",
              "    </div>\n",
              "  </div>\n",
              "  "
            ]
          },
          "metadata": {},
          "execution_count": 5
        }
      ],
      "source": [
        "col_list_test = [\"id\", \"text\"]\n",
        "\n",
        "test_df = pd.read_csv(\"/content/drive/MyDrive/Colab Notebooks/test.csv\", usecols=col_list_test, low_memory=False)\n",
        "\n",
        "test_df.head()"
      ]
    },
    {
      "cell_type": "markdown",
      "metadata": {
        "id": "RnBzjQ7Of-Qx"
      },
      "source": [
        "Copying the Test_df into another variable so that we can process that variable later without modifying original test_df"
      ]
    },
    {
      "cell_type": "code",
      "execution_count": 6,
      "metadata": {
        "id": "j43j0t_3gKXr"
      },
      "outputs": [],
      "source": [
        "Final_df = test_df.copy()"
      ]
    },
    {
      "cell_type": "markdown",
      "metadata": {
        "id": "Tu3tZhuI01Dh"
      },
      "source": [
        "## Basic Checks on the Data"
      ]
    },
    {
      "cell_type": "code",
      "execution_count": 7,
      "metadata": {
        "colab": {
          "base_uri": "https://localhost:8080/"
        },
        "id": "-hJOi65g03YW",
        "outputId": "75ef48fd-70e0-4f7e-f2cf-5052391570ad"
      },
      "outputs": [
        {
          "output_type": "execute_result",
          "data": {
            "text/plain": [
              "id                 0\n",
              "text               0\n",
              "harsh              0\n",
              "extremely_harsh    0\n",
              "vulgar             0\n",
              "threatening        0\n",
              "disrespect         0\n",
              "targeted_hate      0\n",
              "dtype: int64"
            ]
          },
          "metadata": {},
          "execution_count": 7
        }
      ],
      "source": [
        "train_df.isna().sum()"
      ]
    },
    {
      "cell_type": "code",
      "execution_count": 8,
      "metadata": {
        "colab": {
          "base_uri": "https://localhost:8080/"
        },
        "id": "9sJoqQ9RldJb",
        "outputId": "e26b5640-d767-4c99-98f8-124a22fa8b65"
      },
      "outputs": [
        {
          "output_type": "execute_result",
          "data": {
            "text/plain": [
              "id                 0\n",
              "text               0\n",
              "harsh              0\n",
              "extremely_harsh    0\n",
              "vulgar             0\n",
              "threatening        0\n",
              "disrespect         0\n",
              "targeted_hate      0\n",
              "dtype: int64"
            ]
          },
          "metadata": {},
          "execution_count": 8
        }
      ],
      "source": [
        "(train_df == \"?\").sum()"
      ]
    },
    {
      "cell_type": "markdown",
      "metadata": {
        "id": "ItokZldgy4W9"
      },
      "source": [
        "Thus, We don't have any NAN values present in our dataset."
      ]
    },
    {
      "cell_type": "markdown",
      "metadata": {
        "id": "8OVcKm1-dx_O"
      },
      "source": [
        "# **TRAIN AND TEST SPLIT**"
      ]
    },
    {
      "cell_type": "markdown",
      "metadata": {
        "id": "Llv39mv6dx_S"
      },
      "source": [
        "Now we will split our Training dataset only into 2 parts: Training Set and Test Set. This is to just check the Accuracy or F1 Score for our Models. <br>\n",
        "\n",
        "For creating final submission, this part is not needed."
      ]
    },
    {
      "cell_type": "code",
      "execution_count": 9,
      "metadata": {
        "id": "k7QSkS5mgy2Y"
      },
      "outputs": [],
      "source": [
        "# from sklearn.model_selection import train_test_split \n",
        "\n",
        "# train_df, test_df = train_test_split(train_df, train_size=0.8)"
      ]
    },
    {
      "cell_type": "code",
      "execution_count": 10,
      "metadata": {
        "id": "7iFKfphVWB-V"
      },
      "outputs": [],
      "source": [
        "# Final_df = test_df.copy()"
      ]
    },
    {
      "cell_type": "markdown",
      "metadata": {
        "id": "qjZ5hiYZXAfI"
      },
      "source": [
        "## **Manual Cleaning** of the Text"
      ]
    },
    {
      "cell_type": "code",
      "execution_count": 11,
      "metadata": {
        "id": "u7LyAD06XABh"
      },
      "outputs": [],
      "source": [
        "def Manual_cleanText(string):\n",
        "\n",
        " string = re.sub(\":\\)\", \" smiling\", string)\n",
        " string = re.sub(\"\\(:\", \" smiling\", string)\n",
        " string = re.sub(\":-\\)\", \" smiling\", string)\n",
        " string = re.sub(\"\\(-:\", \" smiling\", string)\n",
        " string = re.sub(\":-\\)\\)\", \" smiling\", string)\n",
        " string = re.sub(\"\\(\\(-:\", \" smiling\", string)\n",
        "\n",
        " string = re.sub(\":\\(\", \" sad\", string)\n",
        " string = re.sub(\"\\):\", \" sad\", string)\n",
        " string = re.sub(\":-\\(\", \" sad\", string)\n",
        " string = re.sub(\"\\)-:\", \" sad\", string)\n",
        " string = re.sub(\":-\\(\\(\", \" sad\", string)\n",
        " string = re.sub(\"\\)\\)-:\", \" sad\", string)\n",
        "\n",
        " string = re.sub(\":'\\)\", \" sad\", string)\n",
        " string = re.sub(\":'\\)\\)\", \" sad\", string)\n",
        "\n",
        " return string"
      ]
    },
    {
      "cell_type": "code",
      "execution_count": 12,
      "metadata": {
        "id": "ERBvwUWhXmQ6"
      },
      "outputs": [],
      "source": [
        "def Manual_cleanDataset(dataframe, column_name):\n",
        "  \n",
        "  dataframe[column_name] = dataframe[column_name].apply(lambda x:Manual_cleanText(x))\n",
        "\n",
        "  return dataframe"
      ]
    },
    {
      "cell_type": "code",
      "execution_count": 13,
      "metadata": {
        "id": "k_qn0lHKiSQd"
      },
      "outputs": [],
      "source": [
        "# # MANUAL CLEANING\n",
        "# train_df = Manual_cleanDataset(train_df, \"text\")\n",
        "# test_df = Manual_cleanDataset(test_df, \"text\")"
      ]
    },
    {
      "cell_type": "markdown",
      "metadata": {
        "id": "8jO8E418irwS"
      },
      "source": [
        "# **CLEANING UP THE TEXT**\n",
        "\n",
        "Before proceeding towards EDA and Prepprocessing, lets clean up the text data. <br> Cleaning will include removal of all the words, characters etc. that won't be helpful in predicting the labels."
      ]
    },
    {
      "cell_type": "markdown",
      "metadata": {
        "id": "xdsNb-G3pDy2"
      },
      "source": [
        "## **One Shot** Cleanups\n",
        "\n",
        "In this, we perform the following actions:\n",
        "\n",
        "\n",
        "*   Remove all the URL's from the text\n",
        "\n",
        "*   Remove all Punctuation Marks and Special Characters except ?, !, # and @.\n",
        "\n",
        "*   Lower the text\n",
        "*   Remove the numeric data.\n"
      ]
    },
    {
      "cell_type": "code",
      "execution_count": 14,
      "metadata": {
        "id": "PT3572MilxVs"
      },
      "outputs": [],
      "source": [
        "def One_Shot_Cleanups(dataframe, column_name):\n",
        "\n",
        "  text_list = dataframe[column_name].tolist()\n",
        "\n",
        "  for i in range(len(text_list)):\n",
        "\n",
        "    # Removing Punctuation mark and spcial characters\n",
        "    # Remove all the numeric data\n",
        "    # Remove URL\n",
        "    text_list[i] = re.sub('[^a-zA-Z?!\\*]+', ' ', text_list[i])\n",
        "    # text_list[i] = re.sub('[^a-zA-Z?!#@\\*]+', ' ', text_list[i])\n",
        "\n",
        "    # # Lowering the text except the words which are all capitals\n",
        "    # text_list[i] = text_list[i].split()\n",
        "    # for j in range(len(text_list[i])):\n",
        "    #   if text_list[i][j] != text_list[i][j].upper():\n",
        "    #     text_list[i][j] = text_list[i][j].lower()\n",
        "    # text_list[i] = ' '.join(text_list[i])\n",
        "\n",
        "  \n",
        "  dataframe[column_name] = text_list\n",
        "\n",
        "  return dataframe"
      ]
    },
    {
      "cell_type": "code",
      "execution_count": 15,
      "metadata": {
        "id": "dzL7T4ogid1P"
      },
      "outputs": [],
      "source": [
        "# REMOVE PUNCTUATION, NUMBERS and SPECIAL CHARACTERS\n",
        "train_df = One_Shot_Cleanups(train_df, \"text\")\n",
        "test_df = One_Shot_Cleanups(test_df, \"text\")"
      ]
    },
    {
      "cell_type": "code",
      "execution_count": 16,
      "metadata": {
        "id": "e9OFMzXA_tP_"
      },
      "outputs": [],
      "source": [
        "test_df.to_csv('Check_RE.csv', index = False)"
      ]
    },
    {
      "cell_type": "markdown",
      "metadata": {
        "id": "h_9LoDhenR65"
      },
      "source": [
        "# **EXPLORATORY DATA ANALYSIS**\n",
        "\n",
        "Let's Analysis our dataset so that we can get some intutuion of how our results gonna be like. This will give us insight into planning our models as well as what type of preprocessing we require."
      ]
    },
    {
      "cell_type": "markdown",
      "metadata": {
        "id": "ytJKxvAtheoE"
      },
      "source": [
        "## PIE - CHART Showing Category Distribution"
      ]
    },
    {
      "cell_type": "code",
      "execution_count": 17,
      "metadata": {
        "colab": {
          "base_uri": "https://localhost:8080/",
          "height": 553
        },
        "id": "Yov-gQ3DAmSi",
        "outputId": "2b192e8a-4771-4264-bd2c-d95b5570cf01"
      },
      "outputs": [
        {
          "output_type": "execute_result",
          "data": {
            "text/plain": [
              "<matplotlib.legend.Legend at 0x7fca37ccfbe0>"
            ]
          },
          "metadata": {},
          "execution_count": 17
        },
        {
          "output_type": "display_data",
          "data": {
            "text/plain": [
              "<Figure size 648x648 with 1 Axes>"
            ],
            "image/png": "[encoded data removed]"
          },
          "metadata": {}
        }
      ],
      "source": [
        "categories = ['harsh', 'extremely_harsh', 'vulgar', 'threatening', 'disrespect', 'targeted_hate']\n",
        "\n",
        "category_counts = train_df[categories].sum()\n",
        "\n",
        "category_count_list = list(category_counts)\n",
        "\n",
        "category_freq_df = pd.DataFrame({\"category\": categories, \"count\": category_count_list})\n",
        "\n",
        "category_freq_df.plot.pie(y = \"count\", figsize = (9,9), legend = True, title = \"Distribution of categories over comments\", labels = categories)\n",
        "\n",
        "plt.legend(loc=\"lower right\")"
      ]
    },
    {
      "cell_type": "markdown",
      "metadata": {
        "id": "rSzaTlW0mvUz"
      },
      "source": [
        "**INFERENCE** - Mostly comments are either 'harsh', 'vulgur' or 'disrespectful'. Very less comments are 'threatening'. <br>\n",
        "\n",
        "Hence we can expect same distribution in the test data also."
      ]
    },
    {
      "cell_type": "markdown",
      "metadata": {
        "id": "BDH45l7xh32V"
      },
      "source": [
        "## Printing the Counts"
      ]
    },
    {
      "cell_type": "code",
      "execution_count": 18,
      "metadata": {
        "colab": {
          "base_uri": "https://localhost:8080/"
        },
        "id": "bvtROMSrIYL6",
        "outputId": "6c95efba-7f12-43c6-db94-d442e1c4cd0f"
      },
      "outputs": [
        {
          "output_type": "stream",
          "name": "stdout",
          "text": [
            "          category  count\n",
            "0            harsh   8559\n",
            "1  extremely_harsh    917\n",
            "2           vulgar   4742\n",
            "3      threatening    268\n",
            "4       disrespect   4392\n",
            "5    targeted_hate    802\n"
          ]
        }
      ],
      "source": [
        "print(category_freq_df)"
      ]
    },
    {
      "cell_type": "markdown",
      "metadata": {
        "id": "ycoltDyrh7-C"
      },
      "source": [
        "## CORRELATION MATRIX\n",
        "\n",
        "Here we are checking Co-relation between the labels. it will help us get an idea how our output labels should be."
      ]
    },
    {
      "cell_type": "code",
      "execution_count": 19,
      "metadata": {
        "colab": {
          "base_uri": "https://localhost:8080/",
          "height": 613
        },
        "id": "CIEbDyhEKKCV",
        "outputId": "2fe401d9-edc8-412f-bf5b-fbb02eb86e88"
      },
      "outputs": [
        {
          "output_type": "execute_result",
          "data": {
            "text/plain": [
              "<matplotlib.axes._subplots.AxesSubplot at 0x7fca38f3b190>"
            ]
          },
          "metadata": {},
          "execution_count": 19
        },
        {
          "output_type": "display_data",
          "data": {
            "text/plain": [
              "<Figure size 720x720 with 2 Axes>"
            ],
            "image/png": "[encoded data removed]"
          },
          "metadata": {
            "needs_background": "light"
          }
        }
      ],
      "source": [
        "plt.figure(figsize=(10,10))\n",
        "sns.heatmap(train_df[categories].corr(), vmin=-1, cmap=\"GnBu\", annot=True)"
      ]
    },
    {
      "cell_type": "markdown",
      "metadata": {
        "id": "-skXSbe9mTmo"
      },
      "source": [
        "**INFERENCE** - Label Columns are not much Corelated to each other. Hence we can't link one to another in any of the data models we will train."
      ]
    },
    {
      "cell_type": "markdown",
      "metadata": {
        "id": "FoOPYH3jKWVw"
      },
      "source": [
        "## WORD LEVEL ANALYSIS\n",
        "\n",
        "Let's find the length of every word in the comments by making a dataframe of words containing the following columns:\n",
        "\n",
        "\n",
        "*   Word\n",
        "*   Frequency\n",
        "*   Word_Length\n",
        "\n"
      ]
    },
    {
      "cell_type": "code",
      "execution_count": 20,
      "metadata": {
        "id": "lUzFgWgklKNg"
      },
      "outputs": [],
      "source": [
        "def create_word_dataframe(series):\n",
        "\n",
        "  words_list = []\n",
        "\n",
        "  for paragraph in series:\n",
        "    words_list.append(nltk.word_tokenize(paragraph))\n",
        "\n",
        "  flattened_list = [j for sub in words_list for j in sub]\n",
        "\n",
        "  words_list = flattened_list\n",
        "\n",
        "  word_dictionary = {}\n",
        "\n",
        "  for word in words_list:\n",
        "    word_dictionary[word] = 0\n",
        "\n",
        "  for word in words_list:\n",
        "    word_dictionary[word] += 1\n",
        "\n",
        "  df_word = pd.DataFrame(word_dictionary.items(),columns=['word','frequency'])\n",
        "\n",
        "  df_word['word_length']= df_word['word'].map(lambda x: len(x))\n",
        "\n",
        "  df_word = df_word.sort_values('frequency',ascending=False).reset_index(drop=True)\n",
        "\n",
        "  return df_word"
      ]
    },
    {
      "cell_type": "code",
      "execution_count": 21,
      "metadata": {
        "id": "rsyFMZ-qPftD",
        "colab": {
          "base_uri": "https://localhost:8080/",
          "height": 363
        },
        "outputId": "ca788c68-9d76-4661-8699-6deee80f30b9"
      },
      "outputs": [
        {
          "output_type": "execute_result",
          "data": {
            "text/plain": [
              "   word  frequency  word_length\n",
              "0   the     252701            3\n",
              "1    to     163886            2\n",
              "2     I     125803            1\n",
              "3    of     124577            2\n",
              "4   and     119782            3\n",
              "5     a     113982            1\n",
              "6   you     101617            3\n",
              "7    is      94679            2\n",
              "8  that      85711            4\n",
              "9    in      75615            2"
            ],
            "text/html": [
              "\n",
              "  <div id=\"df-4871dd7a-6b02-4962-80bf-e1e0899d39c1\">\n",
              "    <div class=\"colab-df-container\">\n",
              "      <div>\n",
              "<style scoped>\n",
              "    .dataframe tbody tr th:only-of-type {\n",
              "        vertical-align: middle;\n",
              "    }\n",
              "\n",
              "    .dataframe tbody tr th {\n",
              "        vertical-align: top;\n",
              "    }\n",
              "\n",
              "    .dataframe thead th {\n",
              "        text-align: right;\n",
              "    }\n",
              "</style>\n",
              "<table border=\"1\" class=\"dataframe\">\n",
              "  <thead>\n",
              "    <tr style=\"text-align: right;\">\n",
              "      <th></th>\n",
              "      <th>word</th>\n",
              "      <th>frequency</th>\n",
              "      <th>word_length</th>\n",
              "    </tr>\n",
              "  </thead>\n",
              "  <tbody>\n",
              "    <tr>\n",
              "      <th>0</th>\n",
              "      <td>the</td>\n",
              "      <td>252701</td>\n",
              "      <td>3</td>\n",
              "    </tr>\n",
              "    <tr>\n",
              "      <th>1</th>\n",
              "      <td>to</td>\n",
              "      <td>163886</td>\n",
              "      <td>2</td>\n",
              "    </tr>\n",
              "    <tr>\n",
              "      <th>2</th>\n",
              "      <td>I</td>\n",
              "      <td>125803</td>\n",
              "      <td>1</td>\n",
              "    </tr>\n",
              "    <tr>\n",
              "      <th>3</th>\n",
              "      <td>of</td>\n",
              "      <td>124577</td>\n",
              "      <td>2</td>\n",
              "    </tr>\n",
              "    <tr>\n",
              "      <th>4</th>\n",
              "      <td>and</td>\n",
              "      <td>119782</td>\n",
              "      <td>3</td>\n",
              "    </tr>\n",
              "    <tr>\n",
              "      <th>5</th>\n",
              "      <td>a</td>\n",
              "      <td>113982</td>\n",
              "      <td>1</td>\n",
              "    </tr>\n",
              "    <tr>\n",
              "      <th>6</th>\n",
              "      <td>you</td>\n",
              "      <td>101617</td>\n",
              "      <td>3</td>\n",
              "    </tr>\n",
              "    <tr>\n",
              "      <th>7</th>\n",
              "      <td>is</td>\n",
              "      <td>94679</td>\n",
              "      <td>2</td>\n",
              "    </tr>\n",
              "    <tr>\n",
              "      <th>8</th>\n",
              "      <td>that</td>\n",
              "      <td>85711</td>\n",
              "      <td>4</td>\n",
              "    </tr>\n",
              "    <tr>\n",
              "      <th>9</th>\n",
              "      <td>in</td>\n",
              "      <td>75615</td>\n",
              "      <td>2</td>\n",
              "    </tr>\n",
              "  </tbody>\n",
              "</table>\n",
              "</div>\n",
              "      <button class=\"colab-df-convert\" onclick=\"convertToInteractive('df-4871dd7a-6b02-4962-80bf-e1e0899d39c1')\"\n",
              "              title=\"Convert this dataframe to an interactive table.\"\n",
              "              style=\"display:none;\">\n",
              "        \n",
              "  <svg xmlns=\"http://www.w3.org/2000/svg\" height=\"24px\"viewBox=\"0 0 24 24\"\n",
              "       width=\"24px\">\n",
              "    <path d=\"M0 0h24v24H0V0z\" fill=\"none\"/>\n",
              "    <path d=\"M18.56 5.44l.94 2.06.94-2.06 2.06-.94-2.06-.94-.94-2.06-.94 2.06-2.06.94zm-11 1L8.5 8.5l.94-2.06 2.06-.94-2.06-.94L8.5 2.5l-.94 2.06-2.06.94zm10 10l.94 2.06.94-2.06 2.06-.94-2.06-.94-.94-2.06-.94 2.06-2.06.94z\"/><path d=\"M17.41 7.96l-1.37-1.37c-.4-.4-.92-.59-1.43-.59-.52 0-1.04.2-1.43.59L10.3 9.45l-7.72 7.72c-.78.78-.78 2.05 0 2.83L4 21.41c.39.39.9.59 1.41.59.51 0 1.02-.2 1.41-.59l7.78-7.78 2.81-2.81c.8-.78.8-2.07 0-2.86zM5.41 20L4 18.59l7.72-7.72 1.47 1.35L5.41 20z\"/>\n",
              "  </svg>\n",
              "      </button>\n",
              "      \n",
              "  <style>\n",
              "    .colab-df-container {\n",
              "      display:flex;\n",
              "      flex-wrap:wrap;\n",
              "      gap: 12px;\n",
              "    }\n",
              "\n",
              "    .colab-df-convert {\n",
              "      background-color: #E8F0FE;\n",
              "      border: none;\n",
              "      border-radius: 50%;\n",
              "      cursor: pointer;\n",
              "      display: none;\n",
              "      fill: #1967D2;\n",
              "      height: 32px;\n",
              "      padding: 0 0 0 0;\n",
              "      width: 32px;\n",
              "    }\n",
              "\n",
              "    .colab-df-convert:hover {\n",
              "      background-color: #E2EBFA;\n",
              "      box-shadow: 0px 1px 2px rgba(60, 64, 67, 0.3), 0px 1px 3px 1px rgba(60, 64, 67, 0.15);\n",
              "      fill: #174EA6;\n",
              "    }\n",
              "\n",
              "    [theme=dark] .colab-df-convert {\n",
              "      background-color: #3B4455;\n",
              "      fill: #D2E3FC;\n",
              "    }\n",
              "\n",
              "    [theme=dark] .colab-df-convert:hover {\n",
              "      background-color: #434B5C;\n",
              "      box-shadow: 0px 1px 3px 1px rgba(0, 0, 0, 0.15);\n",
              "      filter: drop-shadow(0px 1px 2px rgba(0, 0, 0, 0.3));\n",
              "      fill: #FFFFFF;\n",
              "    }\n",
              "  </style>\n",
              "\n",
              "      <script>\n",
              "        const buttonEl =\n",
              "          document.querySelector('#df-4871dd7a-6b02-4962-80bf-e1e0899d39c1 button.colab-df-convert');\n",
              "        buttonEl.style.display =\n",
              "          google.colab.kernel.accessAllowed ? 'block' : 'none';\n",
              "\n",
              "        async function convertToInteractive(key) {\n",
              "          const element = document.querySelector('#df-4871dd7a-6b02-4962-80bf-e1e0899d39c1');\n",
              "          const dataTable =\n",
              "            await google.colab.kernel.invokeFunction('convertToInteractive',\n",
              "                                                     [key], {});\n",
              "          if (!dataTable) return;\n",
              "\n",
              "          const docLinkHtml = 'Like what you see? Visit the ' +\n",
              "            '<a target=\"_blank\" href=https://colab.research.google.com/notebooks/data_table.ipynb>data table notebook</a>'\n",
              "            + ' to learn more about interactive tables.';\n",
              "          element.innerHTML = '';\n",
              "          dataTable['output_type'] = 'display_data';\n",
              "          await google.colab.output.renderOutput(dataTable, element);\n",
              "          const docLink = document.createElement('div');\n",
              "          docLink.innerHTML = docLinkHtml;\n",
              "          element.appendChild(docLink);\n",
              "        }\n",
              "      </script>\n",
              "    </div>\n",
              "  </div>\n",
              "  "
            ]
          },
          "metadata": {},
          "execution_count": 21
        }
      ],
      "source": [
        "word_dataframe = create_word_dataframe(train_df[\"text\"])\n",
        "\n",
        "word_dataframe.head(10)"
      ]
    },
    {
      "cell_type": "markdown",
      "metadata": {
        "id": "SQrtF7MwP7eM"
      },
      "source": [
        "**HISTOGRAM PLOTS** - Let us find the word length distribution by plotting histograms from the dataframe obtained. <br>"
      ]
    },
    {
      "cell_type": "code",
      "execution_count": 22,
      "metadata": {
        "id": "UlmlPZ8eV0jb",
        "colab": {
          "base_uri": "https://localhost:8080/",
          "height": 312
        },
        "outputId": "1de45e30-f54e-4c09-afd7-2d6fc6963280"
      },
      "outputs": [
        {
          "output_type": "stream",
          "name": "stdout",
          "text": [
            "\n"
          ]
        },
        {
          "output_type": "display_data",
          "data": {
            "text/plain": [
              "<Figure size 1080x288 with 2 Axes>"
            ],
            "image/png": "[encoded data removed]"
          },
          "metadata": {
            "needs_background": "light"
          }
        }
      ],
      "source": [
        "figure, axis = plt.subplots(1, 2, figsize=(15, 4))\n",
        "\n",
        "axis[0].hist(word_dataframe['word_length'])\n",
        "axis[0].set_xlabel('Word Length')\n",
        "axis[0].set_ylabel('Frequency')\n",
        "\n",
        "\n",
        "axis[1].hist(word_dataframe['word_length'], range = [0, 100])\n",
        "axis[1].set_title(\"Zoomed Version\")\n",
        "axis[1].set_xlabel('Word Length')\n",
        "axis[1].set_ylabel('Frequency')\n",
        "print()"
      ]
    },
    {
      "cell_type": "markdown",
      "metadata": {
        "id": "kS8iMcD-tu1c"
      },
      "source": [
        "**OBSERVATION:**\n",
        "\n",
        "\n",
        "\n",
        "*   We have words having word lengths ranging from 0 to 5000 (approx).\n",
        "*   There are very few words having word length greater than 40.\n",
        "\n",
        "**INFERENCE:**\n",
        "\n",
        "\n",
        "*   There is very less probability that words of length greater than 40 would make any sense.<br>\n",
        "Further, will they have any contribution towards sentiment analysis, chances are very very slim.\n",
        "*   Hence, we can remove all the words of length greater than 40.\n",
        "*   This will speed up the Lemmatization process also.\n",
        "\n",
        "\n",
        "\n",
        "\n",
        "\n",
        "\n"
      ]
    },
    {
      "cell_type": "markdown",
      "metadata": {
        "id": "3N4NXPavWPJI"
      },
      "source": [
        "Lets check out the word having maximum length."
      ]
    },
    {
      "cell_type": "code",
      "execution_count": 23,
      "metadata": {
        "id": "L-2wkFRROnNZ",
        "colab": {
          "base_uri": "https://localhost:8080/",
          "height": 80
        },
        "outputId": "fba4742c-71df-4db6-ec56-404b58a0e183"
      },
      "outputs": [
        {
          "output_type": "execute_result",
          "data": {
            "text/plain": [
              "                                                     word  frequency  \\\n",
              "141965  hyyuyuyuyuyuyuyuyuyuyuyuyuyuyuyuyuyuyuyuyuyuyu...          1   \n",
              "\n",
              "        word_length  \n",
              "141965         4926  "
            ],
            "text/html": [
              "\n",
              "  <div id=\"df-55887f32-0267-4870-8c68-a894299ac0b1\">\n",
              "    <div class=\"colab-df-container\">\n",
              "      <div>\n",
              "<style scoped>\n",
              "    .dataframe tbody tr th:only-of-type {\n",
              "        vertical-align: middle;\n",
              "    }\n",
              "\n",
              "    .dataframe tbody tr th {\n",
              "        vertical-align: top;\n",
              "    }\n",
              "\n",
              "    .dataframe thead th {\n",
              "        text-align: right;\n",
              "    }\n",
              "</style>\n",
              "<table border=\"1\" class=\"dataframe\">\n",
              "  <thead>\n",
              "    <tr style=\"text-align: right;\">\n",
              "      <th></th>\n",
              "      <th>word</th>\n",
              "      <th>frequency</th>\n",
              "      <th>word_length</th>\n",
              "    </tr>\n",
              "  </thead>\n",
              "  <tbody>\n",
              "    <tr>\n",
              "      <th>141965</th>\n",
              "      <td>hyyuyuyuyuyuyuyuyuyuyuyuyuyuyuyuyuyuyuyuyuyuyu...</td>\n",
              "      <td>1</td>\n",
              "      <td>4926</td>\n",
              "    </tr>\n",
              "  </tbody>\n",
              "</table>\n",
              "</div>\n",
              "      <button class=\"colab-df-convert\" onclick=\"convertToInteractive('df-55887f32-0267-4870-8c68-a894299ac0b1')\"\n",
              "              title=\"Convert this dataframe to an interactive table.\"\n",
              "              style=\"display:none;\">\n",
              "        \n",
              "  <svg xmlns=\"http://www.w3.org/2000/svg\" height=\"24px\"viewBox=\"0 0 24 24\"\n",
              "       width=\"24px\">\n",
              "    <path d=\"M0 0h24v24H0V0z\" fill=\"none\"/>\n",
              "    <path d=\"M18.56 5.44l.94 2.06.94-2.06 2.06-.94-2.06-.94-.94-2.06-.94 2.06-2.06.94zm-11 1L8.5 8.5l.94-2.06 2.06-.94-2.06-.94L8.5 2.5l-.94 2.06-2.06.94zm10 10l.94 2.06.94-2.06 2.06-.94-2.06-.94-.94-2.06-.94 2.06-2.06.94z\"/><path d=\"M17.41 7.96l-1.37-1.37c-.4-.4-.92-.59-1.43-.59-.52 0-1.04.2-1.43.59L10.3 9.45l-7.72 7.72c-.78.78-.78 2.05 0 2.83L4 21.41c.39.39.9.59 1.41.59.51 0 1.02-.2 1.41-.59l7.78-7.78 2.81-2.81c.8-.78.8-2.07 0-2.86zM5.41 20L4 18.59l7.72-7.72 1.47 1.35L5.41 20z\"/>\n",
              "  </svg>\n",
              "      </button>\n",
              "      \n",
              "  <style>\n",
              "    .colab-df-container {\n",
              "      display:flex;\n",
              "      flex-wrap:wrap;\n",
              "      gap: 12px;\n",
              "    }\n",
              "\n",
              "    .colab-df-convert {\n",
              "      background-color: #E8F0FE;\n",
              "      border: none;\n",
              "      border-radius: 50%;\n",
              "      cursor: pointer;\n",
              "      display: none;\n",
              "      fill: #1967D2;\n",
              "      height: 32px;\n",
              "      padding: 0 0 0 0;\n",
              "      width: 32px;\n",
              "    }\n",
              "\n",
              "    .colab-df-convert:hover {\n",
              "      background-color: #E2EBFA;\n",
              "      box-shadow: 0px 1px 2px rgba(60, 64, 67, 0.3), 0px 1px 3px 1px rgba(60, 64, 67, 0.15);\n",
              "      fill: #174EA6;\n",
              "    }\n",
              "\n",
              "    [theme=dark] .colab-df-convert {\n",
              "      background-color: #3B4455;\n",
              "      fill: #D2E3FC;\n",
              "    }\n",
              "\n",
              "    [theme=dark] .colab-df-convert:hover {\n",
              "      background-color: #434B5C;\n",
              "      box-shadow: 0px 1px 3px 1px rgba(0, 0, 0, 0.15);\n",
              "      filter: drop-shadow(0px 1px 2px rgba(0, 0, 0, 0.3));\n",
              "      fill: #FFFFFF;\n",
              "    }\n",
              "  </style>\n",
              "\n",
              "      <script>\n",
              "        const buttonEl =\n",
              "          document.querySelector('#df-55887f32-0267-4870-8c68-a894299ac0b1 button.colab-df-convert');\n",
              "        buttonEl.style.display =\n",
              "          google.colab.kernel.accessAllowed ? 'block' : 'none';\n",
              "\n",
              "        async function convertToInteractive(key) {\n",
              "          const element = document.querySelector('#df-55887f32-0267-4870-8c68-a894299ac0b1');\n",
              "          const dataTable =\n",
              "            await google.colab.kernel.invokeFunction('convertToInteractive',\n",
              "                                                     [key], {});\n",
              "          if (!dataTable) return;\n",
              "\n",
              "          const docLinkHtml = 'Like what you see? Visit the ' +\n",
              "            '<a target=\"_blank\" href=https://colab.research.google.com/notebooks/data_table.ipynb>data table notebook</a>'\n",
              "            + ' to learn more about interactive tables.';\n",
              "          element.innerHTML = '';\n",
              "          dataTable['output_type'] = 'display_data';\n",
              "          await google.colab.output.renderOutput(dataTable, element);\n",
              "          const docLink = document.createElement('div');\n",
              "          docLink.innerHTML = docLinkHtml;\n",
              "          element.appendChild(docLink);\n",
              "        }\n",
              "      </script>\n",
              "    </div>\n",
              "  </div>\n",
              "  "
            ]
          },
          "metadata": {},
          "execution_count": 23
        }
      ],
      "source": [
        "word_dataframe[word_dataframe['word_length'] == max(word_dataframe['word_length'])]"
      ]
    },
    {
      "cell_type": "markdown",
      "metadata": {
        "id": "Tf3F2E8NWcOc"
      },
      "source": [
        "Clearly, this doesn't make any sense."
      ]
    },
    {
      "cell_type": "markdown",
      "metadata": {
        "id": "kxppPhjEfasQ"
      },
      "source": [
        "**REMOVING THE WORDS**\n",
        "\n",
        "Let's remove the words of length greater than 40"
      ]
    },
    {
      "cell_type": "code",
      "execution_count": 24,
      "metadata": {
        "id": "4y13cOaoux6O"
      },
      "outputs": [],
      "source": [
        "def remove_long_words(dataframe, column_name):\n",
        "\n",
        "  text_list = dataframe[column_name].tolist()\n",
        "\n",
        "  for i in range(len(text_list)):\n",
        "    text_list[i] = re.sub(r'\\W*\\b\\w{40,5000}\\b', '',text_list[i])\n",
        "\n",
        "  dataframe[column_name] = text_list\n",
        "\n",
        "  return dataframe"
      ]
    },
    {
      "cell_type": "code",
      "execution_count": 25,
      "metadata": {
        "id": "0WgBdlcXvpkA"
      },
      "outputs": [],
      "source": [
        "# # REMOVE LONG WORDS\n",
        "# train_df = remove_long_words(train_df, \"text\")\n",
        "# test_df = remove_long_words(test_df, \"text\")"
      ]
    },
    {
      "cell_type": "markdown",
      "metadata": {
        "id": "03HMzRDNL2tE"
      },
      "source": [
        "Now let's plot the Histogram again"
      ]
    },
    {
      "cell_type": "code",
      "execution_count": 26,
      "metadata": {
        "id": "PaoClPG6vzXV"
      },
      "outputs": [],
      "source": [
        "word_dataframe_new = create_word_dataframe(train_df[\"text\"])"
      ]
    },
    {
      "cell_type": "code",
      "execution_count": 27,
      "metadata": {
        "id": "EDqolnlmMoUa",
        "colab": {
          "base_uri": "https://localhost:8080/",
          "height": 299
        },
        "outputId": "48bda0c4-1b38-4f28-f6a8-a64ba6f89f40"
      },
      "outputs": [
        {
          "output_type": "stream",
          "name": "stdout",
          "text": [
            "\n"
          ]
        },
        {
          "output_type": "display_data",
          "data": {
            "text/plain": [
              "<Figure size 432x288 with 1 Axes>"
            ],
            "image/png": "[encoded data removed]"
          },
          "metadata": {
            "needs_background": "light"
          }
        }
      ],
      "source": [
        "plt.hist(word_dataframe_new['word_length'])\n",
        "plt.xlabel(\"Word Length\")\n",
        "plt.ylabel(\"Frequency\")\n",
        "\n",
        "print()\n",
        "plt.show()"
      ]
    },
    {
      "cell_type": "markdown",
      "metadata": {
        "id": "8puh7t5OL9QG"
      },
      "source": [
        "Now we have all words whose length ranges from 0 to 40 only."
      ]
    },
    {
      "cell_type": "markdown",
      "metadata": {
        "id": "Y08_R7OJSWM0"
      },
      "source": [
        "## SENTIMENT ANALYSIS\n",
        "Let us now try to find the general sentiment of the commenters by plotting a histogram showing the polarity and subjectivity levels of the comments."
      ]
    },
    {
      "cell_type": "markdown",
      "metadata": {
        "id": "FV7rfkdddj1E"
      },
      "source": [
        "##POLARITY <br>\n",
        "* Polarity refers to **strength of an opinion**. It can be positive, negative or neutral, with neutral meaning no sentiment expressed. \n",
        "* Polarity values lie in the range [-1,1] with [-1,0) implying negative sentiment, 0 implying neutral and (0,1] implying positive sentiment."
      ]
    },
    {
      "cell_type": "markdown",
      "metadata": {
        "id": "vgwPVF_ofDdQ"
      },
      "source": [
        "This is a method that uses TextBlob library to find the polarity of every comment when the \"text\" column of the dataframe is passed to it. It creates and returns a new dataframe with the columns being: comments and their polarity values."
      ]
    },
    {
      "cell_type": "code",
      "execution_count": 28,
      "metadata": {
        "id": "YYcjqzXWSgyg"
      },
      "outputs": [],
      "source": [
        "def find_polarity(series):\n",
        "\n",
        "  sentiment_objects = [TextBlob(comment) for comment in series]\n",
        "\n",
        "  sentiment_values = [[comment.sentiment.polarity, str(comment)] for comment in sentiment_objects]\n",
        "\n",
        "  sentiment_df = pd.DataFrame(sentiment_values, columns=[\"polarity\", \"comment\"])\n",
        "\n",
        "  return sentiment_df"
      ]
    },
    {
      "cell_type": "markdown",
      "metadata": {
        "id": "kA_a4TZ_fc7z"
      },
      "source": [
        "Calling the method to obtain the dataframe with polarity values"
      ]
    },
    {
      "cell_type": "code",
      "execution_count": 29,
      "metadata": {
        "id": "7C8EjU1uSzJm"
      },
      "outputs": [],
      "source": [
        "polarity_df = find_polarity(train_df[\"text\"])"
      ]
    },
    {
      "cell_type": "markdown",
      "metadata": {
        "id": "rPQdP4yxfhVr"
      },
      "source": [
        "Plotting a histogram to find the polarity distribution over comments"
      ]
    },
    {
      "cell_type": "code",
      "execution_count": 30,
      "metadata": {
        "id": "91MgS6XoS_VP",
        "colab": {
          "base_uri": "https://localhost:8080/",
          "height": 312
        },
        "outputId": "6195d36b-12e1-41d0-8d1c-73184d582f96"
      },
      "outputs": [
        {
          "output_type": "stream",
          "name": "stdout",
          "text": [
            "\n"
          ]
        },
        {
          "output_type": "display_data",
          "data": {
            "text/plain": [
              "<Figure size 432x288 with 1 Axes>"
            ],
            "image/png": "[encoded data removed]"
          },
          "metadata": {
            "needs_background": "light"
          }
        }
      ],
      "source": [
        "polarity_df.hist(bins = [-1, -0.75, -0.5, -0.25, 0.25, 0.5, 0.75, 1],color = \"blue\")\n",
        "\n",
        "plt.title(\"Polarity values from comments\")\n",
        "plt.xlabel(\"Polarity Values\")\n",
        "plt.ylabel(\"No. of Comments\")\n",
        "\n",
        "print()\n",
        "plt.show()"
      ]
    },
    {
      "cell_type": "markdown",
      "metadata": {
        "id": "X0NZsOLkWsJt"
      },
      "source": [
        "**INFERENCE:** <br>\n",
        "* The above histogram shows that most commenters (about 80,000) have a neutral sentiment polarity or no sentiment.\n",
        "* The rest of the commenters about 9,000 have made polar comments, which is the subject of our analysis.\n",
        "* Thus we can expect similar results upon fitting our classification model."
      ]
    },
    {
      "cell_type": "markdown",
      "metadata": {
        "id": "Lm0lqhk5MvcT"
      },
      "source": [
        "## SUBJECTIVITY <br>\n",
        "* **Subjectivity** in text indicates presence of the writer's own feelings, experiences or emotions.\n",
        "* This is in contrast to objective text which is mostly factual and not opinion based.\n",
        "* Subjectivity indicates extent or degree of involvement of the person in the object.\n",
        "* Subjectivity also lies in the range [-1,1] and thus takes both positive and negative values"
      ]
    },
    {
      "cell_type": "markdown",
      "metadata": {
        "id": "sbKQULzWWRYH"
      },
      "source": [
        "This is a method that uses TextBlob library to find the subjectivity of every comment when the \"text\" column of the dataframe is passed to it. It creates and returns a new dataframe with the columns being: comments and their subjectivity values."
      ]
    },
    {
      "cell_type": "code",
      "execution_count": 31,
      "metadata": {
        "id": "fdLnUT-BUORW"
      },
      "outputs": [],
      "source": [
        "def find_subjectivity(series):\n",
        "\n",
        "  sentiment_objects = [TextBlob(comment) for comment in series]\n",
        "\n",
        "  sentiment_values = [[comment.sentiment.subjectivity, str(comment)] for comment in sentiment_objects]\n",
        "\n",
        "  sentiment_df = pd.DataFrame(sentiment_values, columns=[\"subjectivity\", \"comment\"])\n",
        "\n",
        "  return sentiment_df"
      ]
    },
    {
      "cell_type": "markdown",
      "metadata": {
        "id": "Juq6PErsWeJ9"
      },
      "source": [
        "Calling the method to obtain the dataframe with subjectivity values"
      ]
    },
    {
      "cell_type": "code",
      "execution_count": 32,
      "metadata": {
        "id": "mgBVa2-cU7xT"
      },
      "outputs": [],
      "source": [
        "subjectivity_df = find_subjectivity(train_df[\"text\"])"
      ]
    },
    {
      "cell_type": "markdown",
      "metadata": {
        "id": "re_4LY7UWo8_"
      },
      "source": [
        "Plotting a histogram to find the subjectivity distribution over comments"
      ]
    },
    {
      "cell_type": "code",
      "execution_count": 33,
      "metadata": {
        "id": "imP6FlimVLdD",
        "colab": {
          "base_uri": "https://localhost:8080/",
          "height": 295
        },
        "outputId": "50d623ef-50d6-45f1-9ebe-3de9e0832081"
      },
      "outputs": [
        {
          "output_type": "display_data",
          "data": {
            "text/plain": [
              "<Figure size 432x288 with 1 Axes>"
            ],
            "image/png": "[encoded data removed]"
          },
          "metadata": {
            "needs_background": "light"
          }
        }
      ],
      "source": [
        "subjectivity_df.hist(bins = [-1, -0.75, -0.5, -0.25, 0.25, 0.5, 0.75, 1],color = \"blue\")\n",
        "\n",
        "plt.title(\"Subjectivity from comments\")\n",
        "plt.xlabel(\"Polarity Values\")\n",
        "plt.ylabel(\"No. of Comments\")\n",
        "\n",
        "plt.show()"
      ]
    },
    {
      "cell_type": "markdown",
      "metadata": {
        "id": "GVRySYMbXYBF"
      },
      "source": [
        "**INFERENCE:** <br>\n",
        "* The above histogram shows that the comments are highly biased towards subjectivity, i.e every comment is subjective and is purely based on the commenter's opinion & experience and is not objective/fact-based. This also indicates presence of strong emotions/feelings of the commenter."
      ]
    },
    {
      "cell_type": "markdown",
      "metadata": {
        "id": "4wHQIywnDwvx"
      },
      "source": [
        "## WORD CLOUD\n",
        "\n",
        "Let's create a word cloud to get a visual representation of the top frequently used words by the commenters. The larger the size of the word in the word cloud, the higher the frequency of usage by the commenter."
      ]
    },
    {
      "cell_type": "code",
      "execution_count": 34,
      "metadata": {
        "id": "8kh9bU2LB8io"
      },
      "outputs": [],
      "source": [
        "def show_overall_word_cloud(series):\n",
        "\n",
        "  text = \" \".join(i for i in series)\n",
        "  wordcloud = WordCloud(stopwords = stop_words, background_color = \"white\").generate(text)\n",
        "  plt.figure(figsize=(10,10))\n",
        "  plt.imshow(wordcloud, interpolation='bilinear')\n",
        "  plt.axis(\"off\")\n",
        "  plt.show()"
      ]
    },
    {
      "cell_type": "code",
      "execution_count": 35,
      "metadata": {
        "id": "Hfi1ZA8HC_SU",
        "colab": {
          "base_uri": "https://localhost:8080/",
          "height": 310
        },
        "outputId": "63af0fd6-f569-4671-aacb-e7f028d030e6"
      },
      "outputs": [
        {
          "output_type": "display_data",
          "data": {
            "text/plain": [
              "<Figure size 720x720 with 1 Axes>"
            ],
            "image/png": "[encoded data removed]"
          },
          "metadata": {
            "needs_background": "light"
          }
        }
      ],
      "source": [
        "show_overall_word_cloud(train_df[\"text\"])"
      ]
    },
    {
      "cell_type": "markdown",
      "metadata": {
        "id": "qXogMN_R34wO"
      },
      "source": [
        "**INFERENCE** - The words \"one\", \"article\", \"page\", \"think\", etc seem to used very frequently. Some of these words are of no use in case of sentiment analysis. <br>\n",
        "For example the word \"article\" can't contribute to sentiment analysis. Hence, we can manually remove these words for out text data."
      ]
    },
    {
      "cell_type": "markdown",
      "metadata": {
        "id": "UJb3aeYfgAHr"
      },
      "source": [
        "Let us find the top 15 commonly used words in the text (words which aren't stopwords, as they will be removed)"
      ]
    },
    {
      "cell_type": "code",
      "execution_count": 36,
      "metadata": {
        "id": "UjHMdZPkiXU9"
      },
      "outputs": [],
      "source": [
        "stop_words = stopwords.words('english')\n",
        "\n",
        "def find_word_frequencies(column):\n",
        "    \n",
        "    split_column = column.str.split()\n",
        "    text_list = split_column.tolist()\n",
        "\n",
        "    word_list = [word for i in text_list for word in i]\n",
        "\n",
        "    counter_object = Counter(word_list)\n",
        "\n",
        "    most_common_object = counter_object.most_common()\n",
        "\n",
        "    x_coordinate = []\n",
        "    y_coordinate = []\n",
        "\n",
        "    for word_name, word_frequency in most_common_object[:100]:\n",
        "    \n",
        "        if (word_name not in set(stop_words)):\n",
        "            y_coordinate.append(word_name)\n",
        "            x_coordinate.append(word_frequency)\n",
        "            \n",
        "    sns.barplot(x = x_coordinate, y = y_coordinate)"
      ]
    },
    {
      "cell_type": "code",
      "execution_count": 37,
      "metadata": {
        "id": "nQQ-XyrbiY1H",
        "colab": {
          "base_uri": "https://localhost:8080/",
          "height": 265
        },
        "outputId": "7f89b4fd-1fab-458b-98da-1f0ea19512a6"
      },
      "outputs": [
        {
          "output_type": "display_data",
          "data": {
            "text/plain": [
              "<Figure size 432x288 with 1 Axes>"
            ],
            "image/png": "[encoded data removed]"
          },
          "metadata": {
            "needs_background": "light"
          }
        }
      ],
      "source": [
        "find_word_frequencies(train_df[\"text\"])"
      ]
    },
    {
      "cell_type": "markdown",
      "metadata": {
        "id": "16l4ndWdndm0"
      },
      "source": [
        "The above barplot shows that the words \"article\", \"page\", \"would\", \"one\", \"wikipedia\", \"see\", \"know\", \"also\", \"make\", \"people\", \"may\", \"edit\", \"source\", \"use\", \"get\", \"need\", \"even\", \"time\", \"want\", \"say\", \"could\" and \"user\" are used quite frequently by the commenters. These most common words do not play role in sentiment analyis, thus we can remove them in the following data clean up section."
      ]
    },
    {
      "cell_type": "markdown",
      "metadata": {
        "id": "UlMNXkyVaALp"
      },
      "source": [
        "## **Expanding** the Text\n",
        "\n",
        "Contractions are words or combinations of words that are shortened by dropping letters and replacing them by an apostrophe."
      ]
    },
    {
      "cell_type": "code",
      "execution_count": 38,
      "metadata": {
        "id": "nF7rUHgUaJVL"
      },
      "outputs": [],
      "source": [
        "def Expand_text(string):\n",
        "\n",
        " string = contractions.fix(string) \n",
        "\n",
        " return string"
      ]
    },
    {
      "cell_type": "code",
      "execution_count": 39,
      "metadata": {
        "id": "5yXhRAr_aJVS"
      },
      "outputs": [],
      "source": [
        "def Expand_Dataset(dataframe, column_name):\n",
        "  \n",
        "  dataframe[column_name] = dataframe[column_name].apply(Expand_text)\n",
        "\n",
        "  return dataframe"
      ]
    },
    {
      "cell_type": "code",
      "execution_count": 40,
      "metadata": {
        "id": "071Hnpu6aJVU"
      },
      "outputs": [],
      "source": [
        "# # Expanding Text\n",
        "# train_df = Expand_Dataset(train_df, \"text\")\n",
        "# test_df = Expand_Dataset(test_df, \"text\")"
      ]
    },
    {
      "cell_type": "markdown",
      "metadata": {
        "id": "ztMkjVPUSKVw"
      },
      "source": [
        "# **PREPROCESSING OF THE DATA**"
      ]
    },
    {
      "cell_type": "markdown",
      "metadata": {
        "id": "CDYzhos6SlTB"
      },
      "source": [
        "After done with analysis and cleaning of our text data, let's proceed towards preprocessing required to fit our ML Models.<br>\n",
        "\n",
        "**NOTE** - Cleaning of the text which we did above also constitutes as preprocessing."
      ]
    },
    {
      "cell_type": "markdown",
      "metadata": {
        "id": "cINp4mhILEDZ"
      },
      "source": [
        "## **Tokenization** and **Lemmatization** of Text"
      ]
    },
    {
      "cell_type": "code",
      "execution_count": 41,
      "metadata": {
        "id": "aPBxYQHyT7yO"
      },
      "outputs": [],
      "source": [
        "# Declaring the Objects of the classes present in nltk library\n",
        "\n",
        "word_lemmatizer = WordNetLemmatizer()\n",
        "# tweet_tokenizer = nltk.tokenize.TweetTokenizer()\n",
        "word_tokenizer = nltk.tokenize.WhitespaceTokenizer()"
      ]
    },
    {
      "cell_type": "code",
      "execution_count": 42,
      "metadata": {
        "id": "oCAUBUd2gkuI"
      },
      "outputs": [],
      "source": [
        "def tokenize_and_lemmatize_text(text):\n",
        "    return [word_lemmatizer.lemmatize(word) for word in word_tokenizer.tokenize(text)]  # if word not in set(stop_words)]"
      ]
    },
    {
      "cell_type": "code",
      "execution_count": 43,
      "metadata": {
        "id": "h0VeBkzZghZz"
      },
      "outputs": [],
      "source": [
        "def lemmatize_dataset(dataframe, column_name):\n",
        "\n",
        "  # Some text may be just numbers or any other data type. Hence we first convert every text to string format.\n",
        "  dataframe[column_name] = dataframe[column_name].apply(str)\n",
        "\n",
        "  text = dataframe[column_name]\n",
        "\n",
        "  text = text.apply(tokenize_and_lemmatize_text) \n",
        "\n",
        "  text = text.apply(lambda x: ' '.join(([word for word in x ])))  #if word not in set(stop_words)])))\n",
        "\n",
        "  dataframe[column_name] = text\n",
        "\n",
        "  return dataframe"
      ]
    },
    {
      "cell_type": "code",
      "execution_count": 44,
      "metadata": {
        "id": "xi-S8djliIuL"
      },
      "outputs": [],
      "source": [
        "# LEMMATIZATION\n",
        "train_df = lemmatize_dataset(train_df,\"text\")\n",
        "test_df = lemmatize_dataset(test_df,\"text\")"
      ]
    },
    {
      "cell_type": "markdown",
      "source": [
        "## Category - Wise Word Clouds\n",
        "\n",
        "Now we will see which words are most occuring in the sentences for each label category."
      ],
      "metadata": {
        "id": "TCR4Okex4mGA"
      }
    },
    {
      "cell_type": "code",
      "source": [
        "def show_word_cloud(dataframe, text_column, category_name):\n",
        "\n",
        "  text = \"\"\n",
        "  for i in range(dataframe.shape[0]):\n",
        "    if (dataframe.loc[i].at[category_name] == 1):\n",
        "      text = text + dataframe.loc[i].at[text_column]\n",
        "\n",
        "  unique_words = set(text.split(' '))\n",
        "  text = ' '.join(unique_words)\n",
        "\n",
        "  wordcloud = WordCloud(stopwords = stop_words, background_color = \"white\").generate(text)\n",
        "  plt.figure(figsize=(10,10))\n",
        "  plt.imshow(wordcloud, interpolation='bilinear')\n",
        "  plt.axis(\"off\")\n",
        "  plt.show()"
      ],
      "metadata": {
        "id": "Y0ktOTQUM9Vb"
      },
      "execution_count": 45,
      "outputs": []
    },
    {
      "cell_type": "code",
      "source": [
        "# show_word_cloud(train_df, \"text\", \"harsh\")"
      ],
      "metadata": {
        "id": "BOVpF4FGQqZ3"
      },
      "execution_count": 46,
      "outputs": []
    },
    {
      "cell_type": "code",
      "source": [
        "# harsh_words_list = ['fuck', 'FUCK', 'fucking', 'FUCKING' \"F**K\", 'F*CK', 'FU*K', 'F*CKING', 'FU*CKING', 'F**KING', 'bitch', 'f**k', 'f**king', 'f*ck','fu*k', 'fu*cking' 'f*cking', 'f***king', 'asshole']"
      ],
      "metadata": {
        "id": "inKpRH6d4DuN"
      },
      "execution_count": 47,
      "outputs": []
    },
    {
      "cell_type": "code",
      "source": [
        "# show_word_cloud(train_df, \"text\", \"extremely_harsh\")"
      ],
      "metadata": {
        "id": "J6l4tCvSRzjL"
      },
      "execution_count": 48,
      "outputs": []
    },
    {
      "cell_type": "code",
      "source": [
        "# extremely_harsh_words_list = ['bitch', 'cunt', 'asshole']"
      ],
      "metadata": {
        "id": "aqM7s6FXKkyT"
      },
      "execution_count": 49,
      "outputs": []
    },
    {
      "cell_type": "code",
      "source": [
        "# show_word_cloud(train_df, \"text\", \"vulgar\")"
      ],
      "metadata": {
        "id": "0UtF9GKXSBzC"
      },
      "execution_count": 50,
      "outputs": []
    },
    {
      "cell_type": "code",
      "source": [
        "# vulgar_words_list = ['fuck', 'bitch' 'f**k', 'f**king', 'f*ck','fu*k', 'fu*cking']"
      ],
      "metadata": {
        "id": "34VCBIkCLVoC"
      },
      "execution_count": 51,
      "outputs": []
    },
    {
      "cell_type": "code",
      "source": [
        "# show_word_cloud(train_df, \"text\", \"threatening\")"
      ],
      "metadata": {
        "id": "w9xwHUB9UHtX"
      },
      "execution_count": 52,
      "outputs": []
    },
    {
      "cell_type": "code",
      "source": [
        "# threatening_words_list = ['die', 'fool']"
      ],
      "metadata": {
        "id": "zmoz1qzrLrPD"
      },
      "execution_count": 53,
      "outputs": []
    },
    {
      "cell_type": "code",
      "source": [
        "# show_word_cloud(train_df, \"text\", \"disrespect\")"
      ],
      "metadata": {
        "id": "JGwzczjKUPQ3"
      },
      "execution_count": 54,
      "outputs": []
    },
    {
      "cell_type": "code",
      "source": [
        "# disrespect_words_list = ['bitch']"
      ],
      "metadata": {
        "id": "HS3qk9tuL8Y8"
      },
      "execution_count": 55,
      "outputs": []
    },
    {
      "cell_type": "code",
      "source": [
        "# show_word_cloud(train_df, \"text\", \"targeted_hate\")"
      ],
      "metadata": {
        "id": "0X_y7MhyUogK"
      },
      "execution_count": 56,
      "outputs": []
    },
    {
      "cell_type": "code",
      "source": [
        "# targeted_hate_words_list = ['nigger', 'gay', 'racist', 'jew', 'pig', 'nazi', 'nigga']"
      ],
      "metadata": {
        "id": "eCtcmL56OsWk"
      },
      "execution_count": 57,
      "outputs": []
    },
    {
      "cell_type": "markdown",
      "metadata": {
        "id": "0Arylz6IxFKp"
      },
      "source": [
        "## **TF-IDF** Vectorization"
      ]
    },
    {
      "cell_type": "markdown",
      "metadata": {
        "id": "QxD5WWW_HLVW"
      },
      "source": [
        "###Vectiorization of Words"
      ]
    },
    {
      "cell_type": "code",
      "execution_count": 58,
      "metadata": {
        "id": "cihUN15dxTYs"
      },
      "outputs": [],
      "source": [
        "word_vectorizer = TfidfVectorizer(strip_accents = 'unicode', analyzer = 'word')"
      ]
    },
    {
      "cell_type": "code",
      "execution_count": 59,
      "metadata": {
        "id": "kIaXkDquGzFO"
      },
      "outputs": [],
      "source": [
        "#TF - IDF Vectorization\n",
        "\n",
        "complete_fit = word_vectorizer.fit(pd.concat([train_df[\"text\"], test_df[\"text\"]]))\n",
        "\n",
        "train_words_feature_matrix = word_vectorizer.transform(train_df['text'])\n",
        "test_words_feature_matrix = word_vectorizer.transform(test_df['text'])"
      ]
    },
    {
      "cell_type": "markdown",
      "metadata": {
        "id": "PcE_dpY6He8e"
      },
      "source": [
        "###Vectiorization of Characters"
      ]
    },
    {
      "cell_type": "code",
      "execution_count": 60,
      "metadata": {
        "id": "zYd_16FaHe8f"
      },
      "outputs": [],
      "source": [
        "char_vectorizer = TfidfVectorizer(strip_accents = 'unicode', analyzer = 'char', ngram_range = (2, 6))"
      ]
    },
    {
      "cell_type": "code",
      "execution_count": 61,
      "metadata": {
        "id": "N7bleTJmHe8i"
      },
      "outputs": [],
      "source": [
        "#TF - IDF Vectorization\n",
        "\n",
        "complete_fit = char_vectorizer.fit(pd.concat([train_df[\"text\"], test_df[\"text\"]]))\n",
        "\n",
        "train_char_feature_matrix = char_vectorizer.transform(train_df['text'])\n",
        "test_char_feature_matrix = char_vectorizer.transform(test_df['text'])"
      ]
    },
    {
      "cell_type": "markdown",
      "metadata": {
        "id": "ycdXBbhcIO1y"
      },
      "source": [
        "###Merging the Features"
      ]
    },
    {
      "cell_type": "code",
      "execution_count": 62,
      "metadata": {
        "id": "wGEIPTEIIS_-"
      },
      "outputs": [],
      "source": [
        "from scipy.sparse import hstack\n",
        "\n",
        "train_feature_matrix = hstack([train_char_feature_matrix, train_words_feature_matrix])\n",
        "test_feature_matrix = hstack([test_char_feature_matrix, test_words_feature_matrix])"
      ]
    },
    {
      "cell_type": "code",
      "execution_count": 63,
      "metadata": {
        "id": "VX7rdYZYGTkk"
      },
      "outputs": [],
      "source": [
        "# import pickle\n",
        "\n",
        "# with open('Train_Feature_Matrix.pkl', 'wb') as f:\n",
        "#   pickle.dump(train_feature_matrix, f)\n",
        "\n",
        "# with open('Test_Feature_Matrix.pkl', 'wb') as f:\n",
        "#   pickle.dump(test_feature_matrix, f)"
      ]
    },
    {
      "cell_type": "markdown",
      "metadata": {
        "id": "3rK5jZfgUJHB"
      },
      "source": [
        "**Pre-Processing Completed**"
      ]
    },
    {
      "cell_type": "markdown",
      "source": [
        "## SAMPLING\n",
        "\n",
        "\n",
        "*   **Random Over Sampling** - Random oversampling involves randomly duplicating examples from the minority class and adding them to the training dataset.\n",
        "*   **SMOTE** - Samples are generated using concept of k nearest neighbours.\n",
        "\n",
        "\n",
        "*   **Random Under Sampling** - Random undersampling involves randomly selecting examples from the majority class to delete from the training dataset.\n",
        "\n",
        "\n",
        "*   **PipeLine** - Merging both Under and Over Sampling\n",
        "\n",
        "\n",
        "\n",
        "\n",
        "\n"
      ],
      "metadata": {
        "id": "A5DQCk9Wbl4L"
      }
    },
    {
      "cell_type": "code",
      "execution_count": 64,
      "metadata": {
        "id": "OzGr2HT1VA-K"
      },
      "outputs": [],
      "source": [
        "from sklearn.metrics import roc_curve\n",
        "from sklearn.metrics import roc_auc_score\n",
        "\n",
        "from imblearn.over_sampling import SMOTE\n",
        "from imblearn.over_sampling import RandomOverSampler\n",
        "from imblearn.under_sampling import RandomUnderSampler\n",
        "from imblearn.pipeline import Pipeline\n",
        "\n",
        "smote = SMOTE(random_state = 0)\n",
        "Over_sample = RandomOverSampler(sampling_strategy='minority', random_state = 0)\n",
        "Under_sample = RandomUnderSampler(sampling_strategy='majority', random_state = 0)\n",
        "\n",
        "steps = [('o', Over_sample), ('u', Under_sample)]\n",
        "pipeline = Pipeline(steps=steps)"
      ]
    },
    {
      "cell_type": "markdown",
      "metadata": {
        "id": "JrkszTpMEPHJ"
      },
      "source": [
        "# CLASSIFICATION MODELS"
      ]
    },
    {
      "cell_type": "code",
      "execution_count": 65,
      "metadata": {
        "id": "M3pzQ-TuEaCC"
      },
      "outputs": [],
      "source": [
        "labels_list = ['harsh', 'extremely_harsh', 'vulgar', 'threatening', 'disrespect', 'targeted_hate']"
      ]
    },
    {
      "cell_type": "code",
      "source": [
        "def Manually_Classify(Final_df):\n",
        "\n",
        "  text_list = Final_df['text'].tolist()\n",
        "\n",
        "  for i in range(len(text_list)):\n",
        "    \n",
        "    words_list = text_list[i].split()\n",
        "    words_list = set(words_list)\n",
        "\n",
        "    # if words_list & set(harsh_words_list):\n",
        "    #   Final_df['harsh'][i] = 0.999999999999999\n",
        "    \n",
        "    # if words_list & set(extremely_harsh_words_list):\n",
        "    #   Final_df['extremely_harsh'][i] = 0.999999999999999\n",
        "\n",
        "    # if words_list & set(vulgar_words_list):\n",
        "    #   Final_df['vulgar'][i] = 0.999999999999999\n",
        "\n",
        "    # if words_list & set(threatening_words_list):\n",
        "    #   Final_df['threatening'][i] = 0.999999999999999\n",
        "\n",
        "    # if words_list & set(disrespect_words_list):\n",
        "    #   Final_df['disrespect'][i] = 0.999999999999999\n",
        "\n",
        "    # if words_list & set(targeted_hate_words_list):\n",
        "    #   Final_df['targeted_hate'][i] = 0.999999999999999\n",
        "\n",
        "\n",
        "  return Final_df\n"
      ],
      "metadata": {
        "id": "dcCVi3bXRMAt"
      },
      "execution_count": 66,
      "outputs": []
    },
    {
      "cell_type": "code",
      "source": [
        "# train_features_matrix_resampled_list = {}\n",
        "\n",
        "# for i in labels_list:\n",
        "#   train_feature_matrix_resampled, train_label = pipeline.fit_resample(train_feature_matrix, train_df[i])\n",
        "#   train_features_matrix_resampled_list[i] = train_feature_matrix_resampled"
      ],
      "metadata": {
        "id": "NsRt3qdodglX"
      },
      "execution_count": 67,
      "outputs": []
    },
    {
      "cell_type": "markdown",
      "metadata": {
        "id": "H8aiecA9QPsn"
      },
      "source": [
        "##1. Logistic - Unbalanced"
      ]
    },
    {
      "cell_type": "code",
      "execution_count": 68,
      "metadata": {
        "id": "DZ3KKOnEQV-t"
      },
      "outputs": [],
      "source": [
        "# from sklearn.linear_model import LogisticRegression\n",
        "\n",
        "# for i in labels_list:\n",
        "\n",
        "#   train_label_logistic = train_df[i]\n",
        "#   logistic_regression_model = LogisticRegression(max_iter=1000)\n",
        "#   logistic_regression_model.fit(train_feature_matrix, train_label_logistic)\n",
        "#   Predicted_labels_logistic = logistic_regression_model.predict_proba(test_feature_matrix)\n",
        "#   Final_df[i] = Predicted_labels_logistic[:, 1]\n",
        "#   print(i + \" classification complete\")\n",
        "\n",
        "\n",
        "# Submission_df = Final_df.drop(\"text\", axis=1)\n",
        "# Submission_df.to_csv('Results/Result_UnbalancedLogistic.csv', index = False)"
      ]
    },
    {
      "cell_type": "markdown",
      "metadata": {
        "id": "gqkHRdXQXlzS"
      },
      "source": [
        "##2. Logistic - Balanced"
      ]
    },
    {
      "cell_type": "code",
      "execution_count": 69,
      "metadata": {
        "id": "Xdm33ZwdXlzU"
      },
      "outputs": [],
      "source": [
        "# from sklearn.linear_model import LogisticRegression\n",
        "\n",
        "# for i in labels_list:\n",
        "#   train_label = train_df[i]\n",
        "\n",
        "#   train_feature_matrix_resampled, train_label = Over_sample.fit_resample(train_feature_matrix, train_df[i])\n",
        "\n",
        "#   logistic_regression_model = LogisticRegression(max_iter=1000, class_weight='balanced')\n",
        "\n",
        "#   logistic_regression_model.fit(train_feature_matrix_resampled, train_label)\n",
        "#   Predicted_labels_logistic = logistic_regression_model.predict_proba(test_feature_matrix)\n",
        "#   Final_df[i] = Predicted_labels_logistic[:, 1]\n",
        "\n",
        "#   print(i + \" classification complete\")\n",
        "\n",
        "\n",
        "# Submission_df = Final_df.drop(\"text\", axis=1)\n",
        "# Submission_df.to_csv('Results/Results_BalancedLogistic.csv', index = False)"
      ]
    },
    {
      "cell_type": "markdown",
      "metadata": {
        "id": "xE5MYpoGER3D"
      },
      "source": [
        "##3. Random Forest Classifier"
      ]
    },
    {
      "cell_type": "code",
      "execution_count": 70,
      "metadata": {
        "id": "loGfxojFZvem"
      },
      "outputs": [],
      "source": [
        "# from sklearn.ensemble import RandomForestClassifier\n",
        "\n",
        "# for i in labels_list:\n",
        "#     train_label = train_df[i]\n",
        "#     rfc = RandomForestClassifier(max_features = 2500, max_depth = 100, min_samples_split = 10, criterion = 'gini', n_estimators = 120)\n",
        "#     rfc.fit(train_feature_matrix, train_label)\n",
        "\n",
        "#     Predicted_labels = rfc.predict_proba(test_feature_matrix)\n",
        "#     Final_df[i] = Predicted_labels[:, 1]\n",
        "\n",
        "#     print(i + \" classification complete\")\n",
        "\n",
        "# Submission_df = Final_df.drop(\"text\", axis=1)\n",
        "# Submission_df.to_csv('Results/RFC_Result.csv', index = False)"
      ]
    },
    {
      "cell_type": "markdown",
      "metadata": {
        "id": "3c6aAE5PPtfF"
      },
      "source": [
        "##4. Ridge Classifier"
      ]
    },
    {
      "cell_type": "code",
      "execution_count": 71,
      "metadata": {
        "id": "LneYYg7tPtfH"
      },
      "outputs": [],
      "source": [
        "# from sklearn.linear_model import Ridge\n",
        "\n",
        "# for i in labels_list:\n",
        "  \n",
        "#   train_label = train_df[i]\n",
        "\n",
        "#   train_feature_matrix_resampled, train_label = Over_sample.fit_resample(train_feature_matrix, train_df[i])\n",
        "\n",
        "#   Ridge_Classifier = Ridge(alpha = 30,max_iter =2000) \n",
        "#   Ridge_Classifier.fit(train_feature_matrix_resampled, train_label)\n",
        "#   Predicted_labels = Ridge_Classifier.predict(test_feature_matrix)\n",
        "#   Final_df[i] = Predicted_labels\n",
        "\n",
        "#   print(i + \" classification complete\")\n",
        "\n",
        "# Submission_df = Final_df.drop(\"text\", axis=1)\n",
        "# Submission_df.to_csv('Results/Ridge_Result.csv', index = False)"
      ]
    },
    {
      "cell_type": "markdown",
      "metadata": {
        "id": "PUGG2Hy3B5CB"
      },
      "source": [
        "##5. Gradient Boosting Classifier"
      ]
    },
    {
      "cell_type": "code",
      "execution_count": 72,
      "metadata": {
        "id": "VfcJxIqaB4jD"
      },
      "outputs": [],
      "source": [
        "# from sklearn.ensemble import GradientBoostingClassifier\n",
        "\n",
        "# for i in labels_list:\n",
        "  \n",
        "#   train_label = train_df[i]\n",
        "#   GBC=GradientBoostingClassifier(n_estimators=100,max_depth=50)\n",
        "#   GBC.fit(train_feature_matrix, train_label)\n",
        "\n",
        "#   Predicted_labels = GBC.predict(test_feature_matrix)\n",
        "#   Final_df[i] = Predicted_labels\n",
        "\n",
        "#   print(i + \" classification complete\")\n",
        "\n",
        "# Submission_df = Final_df.drop(\"text\", axis=1)\n",
        "# Submission_df.to_csv('Results/GBC_Result.csv', index = False)"
      ]
    },
    {
      "cell_type": "markdown",
      "metadata": {
        "id": "nYQmWdOtB5fM"
      },
      "source": [
        "##6. ADA Boost Classifier"
      ]
    },
    {
      "cell_type": "code",
      "execution_count": 73,
      "metadata": {
        "id": "0l7jN0SHB5fO"
      },
      "outputs": [],
      "source": [
        "# from sklearn.ensemble import AdaBoostClassifier\n",
        "\n",
        "# for i in labels_list:\n",
        "  \n",
        "#   train_label = train_df[i]\n",
        "#   ADB = AdaBoostClassifier(n_estimators = 100, learning_rate = 0.1)\n",
        "#   ADB.fit(train_feature_matrix, train_label)\n",
        "\n",
        "#   Predicted_labels = ADB.predict_proba(test_feature_matrix)\n",
        "#   Final_df[i] = Predicted_labels\n",
        "\n",
        "#   print(i + \" classification complete\")\n",
        "\n",
        "# Submission_df = Final_df.drop(\"text\", axis=1)\n",
        "# Submission_df.to_csv('Results/Ada_Boost_Result.csv', index = False)"
      ]
    },
    {
      "cell_type": "markdown",
      "metadata": {
        "id": "ZaAuCkx7WNzM"
      },
      "source": [
        "## 7. XG BOOST Classifier"
      ]
    },
    {
      "cell_type": "code",
      "execution_count": 74,
      "metadata": {
        "id": "xSG3UL0sWNag"
      },
      "outputs": [],
      "source": [
        "# import xgboost as xgb\n",
        "\n",
        "# xgb_classifier = xgb.XGBClassifier()\n",
        "\n",
        "# for i in labels_list:\n",
        "  \n",
        "#   train_label = train_df[i]\n",
        "#   xgb_classifier.fit(train_feature_matrix, train_label)\n",
        "\n",
        "#   Predicted_labels = xgb_classifier.predict_proba(test_feature_matrix)\n",
        "#   Final_df[i] = Predicted_labels[:, 1]\n",
        "\n",
        "#   print(i + \" classification complete\")\n",
        "\n",
        "# Submission_df = Final_df.drop(\"text\", axis=1)\n",
        "# Submission_df.to_csv('Results/XGB_Result.csv', index = False)\n"
      ]
    },
    {
      "cell_type": "markdown",
      "metadata": {
        "id": "CD89MAOCDgjB"
      },
      "source": [
        "##8. Perceptron"
      ]
    },
    {
      "cell_type": "code",
      "execution_count": 75,
      "metadata": {
        "id": "0pjXItaDDe7O"
      },
      "outputs": [],
      "source": [
        "# from sklearn.linear_model import Perceptron\n",
        "\n",
        "# for i in labels_list:\n",
        "  \n",
        "#   train_label = train_df[i]\n",
        "#   Per = Perceptron(alpha = 0.1, penalty = \"l2\", max_iter = 150)\n",
        "#   Per.fit(train_feature_matrix, train_label)\n",
        "\n",
        "#   Predicted_labels = Per.predict(test_feature_matrix)\n",
        "#   Final_df[i] = Predicted_labels\n",
        "\n",
        "#   print(i + \" classification complete\")\n",
        "\n",
        "# Submission_df = Final_df.drop(\"text\", axis=1)\n",
        "# Submission_df.to_csv('Results/Perceptron_Result.csv', index = False)"
      ]
    },
    {
      "cell_type": "markdown",
      "metadata": {
        "id": "FDo9ILxOFi7l"
      },
      "source": [
        "##9. SVM"
      ]
    },
    {
      "cell_type": "code",
      "execution_count": 76,
      "metadata": {
        "id": "MCmIpm2gFi7p"
      },
      "outputs": [],
      "source": [
        "# from sklearn.svm import SVC\n",
        "\n",
        "# for i in labels_list:\n",
        "  \n",
        "#   train_label = train_df[i]\n",
        "#   SVM_Classifier = SVC(kernel='rbf', probability=True, max_iter= 1000, class_weight= 'balanced')\n",
        "#   SVM_Classifier.fit(train_feature_matrix, train_label)\n",
        "\n",
        "#   Predicted_labels = SVM_Classifier.predict_proba(test_feature_matrix)\n",
        "#   Final_df[i] = Predicted_labels[:, 1]\n",
        "\n",
        "#   print(i + \" classification complete\")\n",
        "\n",
        "# Submission_df = Final_df.drop(\"text\", axis=1)\n",
        "# Submission_df.to_csv('Results/SVM_Result.csv', index = False)"
      ]
    },
    {
      "cell_type": "markdown",
      "metadata": {
        "id": "NFoWKaf_8-kM"
      },
      "source": [
        "##10. Decision Tree Classifier"
      ]
    },
    {
      "cell_type": "code",
      "execution_count": 77,
      "metadata": {
        "id": "DzHEeWn78-kQ"
      },
      "outputs": [],
      "source": [
        "# from sklearn.tree import DecisionTreeClassifier\n",
        "\n",
        "# for i in labels_list:\n",
        "  \n",
        "#   train_label = train_df[i]\n",
        "#   DTModel = DecisionTreeClassifier(max_depth=1000, class_weight = 'balanced')\n",
        "#   DTModel.fit(train_feature_matrix, train_label)\n",
        "\n",
        "#   Predicted_labels = DTModel.predict_proba(test_feature_matrix)\n",
        "#   Final_df[i] = Predicted_labels[:, 1]\n",
        "\n",
        "#   print(i + \" classification complete\")\n",
        "\n",
        "# Submission_df = Final_df.drop(\"text\", axis=1)\n",
        "# Submission_df.to_csv('Results/Decision_Tree_Result.csv', index = False)"
      ]
    },
    {
      "cell_type": "markdown",
      "metadata": {
        "id": "ssd370CYIBfD"
      },
      "source": [
        "##11. Voting Classifier"
      ]
    },
    {
      "cell_type": "code",
      "execution_count": 78,
      "metadata": {
        "id": "kqAiwsIjIAR_",
        "colab": {
          "base_uri": "https://localhost:8080/"
        },
        "outputId": "25f46073-484b-407c-8062-d932d87c1e30"
      },
      "outputs": [
        {
          "output_type": "stream",
          "name": "stdout",
          "text": [
            "harsh classification complete\n",
            "extremely_harsh classification complete\n",
            "vulgar classification complete\n",
            "threatening classification complete\n",
            "disrespect classification complete\n",
            "targeted_hate classification complete\n"
          ]
        }
      ],
      "source": [
        "from sklearn.ensemble import VotingClassifier\n",
        "from sklearn.linear_model import LogisticRegression\n",
        "from sklearn.linear_model import Ridge\n",
        "from imblearn.ensemble import EasyEnsembleClassifier\n",
        "from sklearn.ensemble import RandomForestClassifier\n",
        "from sklearn.linear_model import SGDClassifier\n",
        "import xgboost as xgb\n",
        "\n",
        "LR = LogisticRegression(max_iter=1000, class_weight='balanced')\n",
        "RF = RandomForestClassifier(max_features = 2000, max_depth = 100, min_samples_split = 10, criterion = 'gini', n_estimators = 120)\n",
        "sgd = SGDClassifier(max_iter = 200, alpha = 0.001, loss = 'modified_huber')\n",
        "xgb_classifier = xgb.XGBClassifier()\n",
        "# RC = Ridge(alpha = 30,max_iter =2000)\n",
        "# Eec_SG = EasyEnsembleClassifier(base_estimator = SGDClassifier(max_iter = 200, alpha = 0.001, loss = 'modified_huber'))\n",
        "# Eec_XG = EasyEnsembleClassifier(base_estimator = xgb.XGBClassifier())\n",
        "\n",
        "\n",
        "VotingClassifierModel = VotingClassifier(estimators=[('LR',LR),('RF',RF),('sgd', sgd), ('xgb_classifier', xgb_classifier)],voting='soft')\n",
        "\n",
        "for i in (labels_list):\n",
        "    train_label = train_df[i]\n",
        "\n",
        "    # train_feature_matrix_resampled, train_label = under_sample.fit_resample(train_feature_matrix, train_label)\n",
        "\n",
        "    VotingClassifierModel.fit(train_feature_matrix, train_label)\n",
        "    Predicted_labels = VotingClassifierModel.predict_proba(test_feature_matrix)\n",
        "    Final_df[i] = Predicted_labels[:, 1]\n",
        "\n",
        "    print(i + \" classification complete\")\n",
        "\n",
        "Submission_df = Final_df.drop(\"text\", axis=1)\n",
        "Submission_df.to_csv('/kaggle/working/Voting_Result_3.csv', index = False)"
      ]
    },
    {
      "cell_type": "markdown",
      "source": [
        "## SAVING THE RESULTS FOLDER IN GOOGLE DRIVE"
      ],
      "metadata": {
        "id": "Pjl0zSvTkjDy"
      }
    },
    {
      "cell_type": "code",
      "execution_count": 79,
      "metadata": {
        "id": "4dcjPIy6LCf-"
      },
      "outputs": [],
      "source": [
        "!cp -r  Results /content/drive/MyDrive"
      ]
    }
  ],
  "metadata": {
    "colab": {
      "provenance": [],
      "collapsed_sections": [
        "BDH45l7xh32V",
        "ycoltDyrh7-C",
        "FoOPYH3jKWVw",
        "Y08_R7OJSWM0",
        "Lm0lqhk5MvcT",
        "4wHQIywnDwvx",
        "H8aiecA9QPsn",
        "gqkHRdXQXlzS",
        "9-HV5LSLS6DC",
        "xE5MYpoGER3D",
        "3c6aAE5PPtfF",
        "PUGG2Hy3B5CB",
        "nYQmWdOtB5fM",
        "ZaAuCkx7WNzM",
        "CD89MAOCDgjB",
        "FDo9ILxOFi7l"
      ]
    },
    "gpuClass": "standard",
    "kernelspec": {
      "display_name": "Python 3",
      "name": "python3"
    },
    "language_info": {
      "name": "python"
    }
  },
  "nbformat": 4,
  "nbformat_minor": 0
}